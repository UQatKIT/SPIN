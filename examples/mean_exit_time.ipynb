{
 "cells": [
  {
   "cell_type": "code",
   "execution_count": 32,
   "metadata": {},
   "outputs": [],
   "source": [
    "import dolfin as dl"
   ]
  },
  {
   "cell_type": "code",
   "execution_count": 59,
   "metadata": {},
   "outputs": [],
   "source": [
    "num_mesh_points = 10\n",
    "mesh_bounds = [0, 1]\n",
    "num_components_variables = 2\n",
    "element_type_variables = \"Lagrange\"\n",
    "element_type_parameters = \"Lagrange\"\n",
    "element_degree_variables = 1\n",
    "element_degree_parameters = 1"
   ]
  },
  {
   "cell_type": "code",
   "execution_count": 60,
   "metadata": {},
   "outputs": [],
   "source": [
    "mesh = dl.IntervalMesh(num_mesh_points, *mesh_bounds)\n",
    "domain_dim = mesh.geometry().dim()"
   ]
  },
  {
   "cell_type": "code",
   "execution_count": 61,
   "metadata": {},
   "outputs": [],
   "source": [
    "elem_variables = dl.VectorElement(\n",
    "    family=element_type_variables,\n",
    "    cell=mesh.ufl_cell(),\n",
    "    degree=element_degree_variables,\n",
    "    dim=num_components_variables,\n",
    ")\n",
    "elem_drift = dl.VectorElement(\n",
    "    family=element_type_parameters,\n",
    "    cell=mesh.ufl_cell(),\n",
    "    degree=element_degree_parameters,\n",
    "    dim=domain_dim,\n",
    ")\n",
    "elem_diffusion = dl.TensorElement(\n",
    "    family=element_type_parameters,\n",
    "    cell=mesh.ufl_cell(),\n",
    "    degree=element_degree_parameters,\n",
    "    shape=(domain_dim, domain_dim),\n",
    "    symmetry=True,\n",
    ")\n",
    "elem_composite = dl.MixedElement([elem_drift, elem_diffusion])\n",
    "\n",
    "func_space_variables = dl.FunctionSpace(mesh, elem_variables)\n",
    "func_space_drift = dl.FunctionSpace(mesh, elem_drift)\n",
    "func_space_diffusion = dl.FunctionSpace(mesh, elem_diffusion)\n",
    "func_space_composite = dl.FunctionSpace(mesh, elem_composite)"
   ]
  },
  {
   "cell_type": "code",
   "execution_count": 63,
   "metadata": {},
   "outputs": [],
   "source": [
    "def weak_form_mean_exit_time(\n",
    "    forward_variable: dl.Function,\n",
    "    adjoint_variable: dl.Function,\n",
    "    drift: dl.Function,\n",
    "    squared_diffusion: dl.Function,\n",
    ") -> dl.Form:\n",
    "    weak_form = (\n",
    "        dl.dot(drift * adjoint_variable, dl.grad(forward_variable)) * dl.dx\n",
    "        - 0.5\n",
    "        * dl.dot(dl.div(squared_diffusion * adjoint_variable), dl.grad(forward_variable))\n",
    "        * dl.dx\n",
    "        + dl.Constant(1) * adjoint_variable * dl.dx\n",
    "    )\n",
    "    return weak_form\n",
    "\n",
    "\n",
    "def weak_form_mean_exit_time_moments(\n",
    "    forward_variable: dl.Function,\n",
    "    adjoint_variable: dl.Function,\n",
    "    drift: dl.Function,\n",
    "    squared_diffusion: dl.Function,\n",
    ") -> dl.Form:\n",
    "    weak_form_component_1 = (\n",
    "        dl.dot(drift * adjoint_variable[0], dl.grad(forward_variable[0])) * dl.dx\n",
    "        - 0.5\n",
    "        * dl.dot(dl.div(squared_diffusion * adjoint_variable[0]), dl.grad(forward_variable[0]))\n",
    "        * dl.dx\n",
    "        + dl.Constant(1) * adjoint_variable[0] * dl.dx\n",
    "    )\n",
    "    weak_form_component_2 = (\n",
    "        dl.dot(drift * adjoint_variable[1], dl.grad(forward_variable[1])) * dl.dx\n",
    "        - 0.5\n",
    "        * dl.dot(dl.div(squared_diffusion * adjoint_variable[1]), dl.grad(forward_variable[1]))\n",
    "        * dl.dx\n",
    "        + 2 * forward_variable[0] * adjoint_variable[1] * dl.dx\n",
    "    )\n",
    "    weak_form = weak_form_component_1 + weak_form_component_2\n",
    "    return weak_form\n",
    "\n",
    "\n",
    "def weak_form_fokker_planck(\n",
    "    forward_variable: dl.Function,\n",
    "    adjoint_variable: dl.Function,\n",
    "    drift: dl.Function,\n",
    "    squared_diffusion: dl.Function,\n",
    ") -> dl.Form:\n",
    "    weak_form = (\n",
    "        dl.div(drift * forward_variable) * adjoint_variable * dl.dx\n",
    "        + 0.5\n",
    "        * dl.dot(dl.div(squared_diffusion * forward_variable), dl.grad(adjoint_variable))\n",
    "        * dl.dx\n",
    "        + dl.Constant(0) * adjoint_variable * dl.dx\n",
    "    )\n",
    "    return weak_form"
   ]
  },
  {
   "cell_type": "code",
   "execution_count": 76,
   "metadata": {},
   "outputs": [],
   "source": [
    "boundary_condition = dl.DirichletBC(\n",
    "    func_space_variables, dl.Constant((0.0, 0.0)), lambda _, on_boundary: on_boundary\n",
    ")"
   ]
  }
 ],
 "metadata": {
  "kernelspec": {
   "display_name": "all",
   "language": "python",
   "name": "python3"
  },
  "language_info": {
   "codemirror_mode": {
    "name": "ipython",
    "version": 3
   },
   "file_extension": ".py",
   "mimetype": "text/x-python",
   "name": "python",
   "nbconvert_exporter": "python",
   "pygments_lexer": "ipython3",
   "version": "3.12.8"
  }
 },
 "nbformat": 4,
 "nbformat_minor": 2
}
