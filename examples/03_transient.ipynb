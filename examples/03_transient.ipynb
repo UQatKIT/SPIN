{
 "cells": [
  {
   "cell_type": "code",
   "execution_count": 1,
   "metadata": {},
   "outputs": [],
   "source": [
    "import os\n",
    "import numpy as np\n",
    "\n",
    "from sp_inference import logging, processes, model, sampling, postprocessing "
   ]
  },
  {
   "cell_type": "code",
   "execution_count": 2,
   "metadata": {},
   "outputs": [],
   "source": [
    "logSettings = {\n",
    "    \"output_directory\":      \"03_example_transient\",\n",
    "    \"verbose\":               True,\n",
    "    \"print_interval\":        10\n",
    "}\n",
    "\n",
    "dataSettings = {\n",
    "    \"process_type\":          \"Dr31Di20Process\",\n",
    "    \"drift_parameters\":      [2, 3],\n",
    "    \"diffusion_parameters\":  [1, 2],\n",
    "    \"standard_deviation\":    0.01,\n",
    "    \"rng_seed\":              0,\n",
    "    \"num_domain_points\":     50,\n",
    "    \"num_time_points\":       10,\n",
    "    \"domain_bounds\":         [-1.5, 1.5],\n",
    "    \"time_bounds\":           [0.1, 1]\n",
    "}\n",
    "\n",
    "modelSettings = {\n",
    "    \"params_to_infer\":       \"all\",\n",
    "    \"model_type\":            \"fokker_planck\",\n",
    "    \"is_stationary\":         False\n",
    "}\n",
    "\n",
    "priorSettings = {\n",
    "    \"mean_function\":         [lambda x: -x, lambda x: 3*np.ones(x.shape)],\n",
    "    \"gamma\":                 0.5,\n",
    "    \"delta\":                 0.5,\n",
    "    \"robin_bc\":              False\n",
    "}\n",
    "\n",
    "feSettings = {\n",
    "    \"num_mesh_points\":       500,\n",
    "    \"boundary_locations\":    [-3.5, 3.5],\n",
    "    \"boundary_values\":       [0, 0],\n",
    "    \"element_degrees\":       [1, 1]\n",
    "}\n",
    "\n",
    "transientSettings = {\n",
    "    \"start_time\":            0.1,\n",
    "    \"end_time\":              1.1,\n",
    "    \"time_step_size\":        0.025,\n",
    "    \"initial_condition\":     lambda x: 1/(0.5*np.sqrt(2*np.pi)) * \\\n",
    "                                       np.exp(-0.5*np.square(x)/0.5**2)\n",
    "}\n",
    "\n",
    "solverSettings = {\n",
    "    \"rel_tolerance\":         1e-6,\n",
    "    \"abs_tolerance\":         1e-12,\n",
    "    \"max_iter\":              10,\n",
    "    \"GN_iter\":               5,\n",
    "    \"c_armijo\":              1e-4,\n",
    "    \"max_backtracking_iter\": 10\n",
    "}\n",
    "\n",
    "hessianSettings = {\n",
    "    \"num_eigvals\":           35,\n",
    "    \"num_oversampling\":      10\n",
    "}\n",
    "\n",
    "visualizationSettings = {\n",
    "    \"show\":                  True,\n",
    "    \"time_points\":           [0.1, 1.0]\n",
    "}"
   ]
  },
  {
   "cell_type": "code",
   "execution_count": 3,
   "metadata": {},
   "outputs": [],
   "source": [
    "try:\n",
    "    os.system('rm -r ' + logSettings[\"output_directory\"])\n",
    "except:\n",
    "    pass\n",
    "\n",
    "logger = logging.Logger(logSettings[\"verbose\"],\n",
    "                        logSettings[\"output_directory\"],\n",
    "                        logSettings[\"print_interval\"])"
   ]
  },
  {
   "cell_type": "code",
   "execution_count": 4,
   "metadata": {},
   "outputs": [
    {
     "name": "stdout",
     "output_type": "stream",
     "text": [
      "================== Invoke Dr31Di20Process ==================\n",
      " \n",
      "Drift Coefficient(s): [2, 3] \n",
      "Diffusion Coefficient(s): [1, 2] \n",
      "\n",
      "Generate transient FPE data:       Successful \n",
      "\n"
     ]
    }
   ],
   "source": [
    "randGenerator = np.random.default_rng(dataSettings[\"rng_seed\"])\n",
    "randLocs = randGenerator.uniform(*dataSettings[\"domain_bounds\"], dataSettings[\"num_domain_points\"])\n",
    "randTimes = np.linspace(*dataSettings[\"time_bounds\"], dataSettings[\"num_time_points\"])\n",
    "\n",
    "dataSettings[\"domain_points\"] = randLocs\n",
    "dataSettings[\"time_points\"] = randTimes\n",
    "dataSettings[\"fem_settings\"] = feSettings\n",
    "dataSettings[\"solver_settings\"] = transientSettings\n",
    "\n",
    "processType = processes.get_process(dataSettings[\"process_type\"])\n",
    "process = processType(dataSettings[\"drift_parameters\"],\n",
    "                      dataSettings[\"diffusion_parameters\"],\n",
    "                      logger)\n",
    "\n",
    "forwardNoisy, forwardExact = process.generate_data(modelSettings[\"model_type\"],\n",
    "                                                   modelSettings[\"is_stationary\"],\n",
    "                                                   dataSettings)\n",
    "\n",
    "exactDrift = process.compute_drift(randLocs)\n",
    "exactDiffusion = process.compute_squared_diffusion(randLocs)\n",
    "exactParamValues = np.column_stack((exactDrift, exactDiffusion))\n",
    "\n",
    "exactParamData = [randLocs, exactParamValues]\n",
    "randForwardData = [randLocs, randTimes, forwardNoisy]\n",
    "exactForwardData = [randLocs, randTimes, forwardExact]\n",
    "\n",
    "misFitSettings = {\n",
    "    \"data_locations\": randLocs,\n",
    "    \"data_times\": randTimes,\n",
    "    \"data_values\": forwardNoisy,\n",
    "    \"data_std\": dataSettings[\"standard_deviation\"]\n",
    "}"
   ]
  },
  {
   "cell_type": "code",
   "execution_count": 5,
   "metadata": {},
   "outputs": [
    {
     "name": "stdout",
     "output_type": "stream",
     "text": [
      "================== Invoke Inference Model ==================\n",
      " \n",
      "Construct PDE Problem:             Successful \n",
      "\n",
      "Construct Prior:                   Successful \n",
      "\n",
      "Construct Misfit:                  Successful \n",
      "\n",
      " \n",
      "Calling FFC just-in-time (JIT) compiler, this may take some time.\n"
     ]
    }
   ],
   "source": [
    "inferenceModel = model.SDEInferenceModel(modelSettings,\n",
    "                                         priorSettings,\n",
    "                                         feSettings,\n",
    "                                         misFitSettings,\n",
    "                                         transientSettings,\n",
    "                                         logger)\n",
    "\n",
    "priorMeanData, priorVarianceData, priorForwardData = inferenceModel.get_prior_info(\"Randomized\")"
   ]
  },
  {
   "cell_type": "code",
   "execution_count": 6,
   "metadata": {},
   "outputs": [
    {
     "name": "stdout",
     "output_type": "stream",
     "text": [
      "=============== Conduct Linearized Inference ===============\n",
      " \n",
      "Solve for MAP: \n",
      "Calling FFC just-in-time (JIT) compiler, this may take some time.\n",
      "Calling FFC just-in-time (JIT) compiler, this may take some time.\n",
      "Calling FFC just-in-time (JIT) compiler, this may take some time.\n",
      "Calling FFC just-in-time (JIT) compiler, this may take some time.\n",
      "Calling FFC just-in-time (JIT) compiler, this may take some time.\n",
      "\n",
      "It  cg_it cost            misfit          reg             (g,dm)          ||g||L2        alpha          tolcg         \n",
      "  1   1    4.841122e+03    4.840130e+03    9.922212e-01   -2.031048e+04   4.599569e+04   1.000000e+00   5.000000e-01\n",
      "  2   3    1.180394e+03    1.169892e+03    1.050108e+01   -8.529005e+03   1.405662e+04   1.000000e+00   5.000000e-01\n",
      "  3   3    5.563621e+02    5.480649e+02    8.297210e+00   -1.266205e+03   1.557243e+04   1.000000e+00   5.000000e-01\n",
      "  4   5    4.637848e+02    4.570356e+02    6.749213e+00   -2.093838e+02   3.862678e+03   1.000000e+00   2.897915e-01\n",
      "  5  29    3.253717e+02    2.800293e+02    4.534244e+01   -3.133202e+02   2.002770e+03   1.000000e+00   2.086685e-01\n",
      "Calling FFC just-in-time (JIT) compiler, this may take some time.\n",
      "Calling FFC just-in-time (JIT) compiler, this may take some time.\n",
      "  6   2    3.190361e+02    2.736833e+02    4.535279e+01   -1.264763e+01   1.714467e+03   1.000000e+00   1.930661e-01\n",
      "  7   8    3.169105e+02    2.716110e+02    4.529949e+01   -3.894542e+00   1.326709e+03   1.000000e+00   1.698358e-01\n",
      "  8  71    3.145683e+02    2.688283e+02    4.573998e+01   -3.747650e+00   1.186706e+03   1.000000e+00   1.606249e-01\n",
      "  9  74    3.145537e+02    2.688220e+02    4.573170e+01   -8.001591e-02   2.585829e+02   1.000000e+00   7.497928e-02\n",
      " 10 100    3.145486e+02    2.687869e+02    4.576176e+01   -2.847238e-03   4.640985e+01   1.000000e+00   3.176483e-02\n",
      "\n",
      "Not Converged \n",
      "Termination reason:                Maximum number of Iteration reached \n",
      "Final gradient norm:               46.409847388462424 \n",
      "Final cost:                        314.5486162318174 \n",
      "\n",
      "Construct Reduced Hessian:         Successful \n",
      "\n",
      " \n"
     ]
    }
   ],
   "source": [
    "mapMeanData, mapVarianceData, mapForwardData, hessEigVals \\\n",
    "    = inferenceModel.compute_gr_posterior(solverSettings, hessianSettings)"
   ]
  }
 ],
 "metadata": {
  "interpreter": {
   "hash": "8c0d30f1a31aad45527c0257fbbb71ca327c197b16f623519a12bcbb73bb1da1"
  },
  "kernelspec": {
   "display_name": "Python 3.9.7 64-bit ('sde_inference': conda)",
   "language": "python",
   "name": "python3"
  },
  "language_info": {
   "codemirror_mode": {
    "name": "ipython",
    "version": 3
   },
   "file_extension": ".py",
   "mimetype": "text/x-python",
   "name": "python",
   "nbconvert_exporter": "python",
   "pygments_lexer": "ipython3",
   "version": "3.10.12"
  }
 },
 "nbformat": 4,
 "nbformat_minor": 2
}
