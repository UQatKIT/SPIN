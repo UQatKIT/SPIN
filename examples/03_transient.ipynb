{
 "cells": [
  {
   "cell_type": "code",
   "execution_count": null,
   "metadata": {},
   "outputs": [],
   "source": [
    "import os\n",
    "import numpy as np\n",
    "\n",
    "from sp_inference import logging, processes, model"
   ]
  },
  {
   "cell_type": "code",
   "execution_count": null,
   "metadata": {},
   "outputs": [],
   "source": [
    "logSettings = {\n",
    "    \"output_directory\":      \"03_example_transient\",\n",
    "    \"verbose\":               True,\n",
    "    \"print_interval\":        10\n",
    "}\n",
    "\n",
    "dataSettings = {\n",
    "    \"process_type\":          \"Dr31Di20Process\",\n",
    "    \"drift_parameters\":      [2, 3],\n",
    "    \"diffusion_parameters\":  [1, 2],\n",
    "    \"standard_deviation\":    0.01,\n",
    "    \"rng_seed\":              0,\n",
    "    \"num_domain_points\":     50,\n",
    "    \"num_time_points\":       10,\n",
    "    \"domain_bounds\":         [-1.5, 1.5],\n",
    "    \"time_bounds\":           [0.1, 1]\n",
    "}\n",
    "\n",
    "modelSettings = {\n",
    "    \"params_to_infer\":       \"all\",\n",
    "    \"model_type\":            \"fokker_planck\",\n",
    "    \"is_stationary\":         False\n",
    "}\n",
    "\n",
    "priorSettings = {\n",
    "    \"mean_function\":         [lambda x: -x, lambda x: 3*np.ones(x.shape)],\n",
    "    \"gamma\":                 0.5,\n",
    "    \"delta\":                 0.5,\n",
    "    \"robin_bc\":              False\n",
    "}\n",
    "\n",
    "feSettings = {\n",
    "    \"num_mesh_points\":       500,\n",
    "    \"boundary_locations\":    [-3.5, 3.5],\n",
    "    \"boundary_values\":       [0, 0],\n",
    "    \"element_degrees\":       [1, 1]\n",
    "}\n",
    "\n",
    "transientSettings = {\n",
    "    \"start_time\":            0.1,\n",
    "    \"end_time\":              1.1,\n",
    "    \"time_step_size\":        0.025,\n",
    "    \"initial_condition\":     lambda x: 1/(0.5*np.sqrt(2*np.pi)) * \\\n",
    "                                       np.exp(-0.5*np.square(x)/0.5**2)\n",
    "}\n",
    "\n",
    "solverSettings = {\n",
    "    \"rel_tolerance\":         1e-6,\n",
    "    \"abs_tolerance\":         1e-12,\n",
    "    \"max_iter\":              10,\n",
    "    \"GN_iter\":               5,\n",
    "    \"c_armijo\":              1e-4,\n",
    "    \"max_backtracking_iter\": 10\n",
    "}\n",
    "\n",
    "hessianSettings = {\n",
    "    \"num_eigvals\":           35,\n",
    "    \"num_oversampling\":      10\n",
    "}\n",
    "\n",
    "visualizationSettings = {\n",
    "    \"show\":                  True,\n",
    "    \"time_points\":           [0.1, 1.0]\n",
    "}"
   ]
  },
  {
   "cell_type": "code",
   "execution_count": null,
   "metadata": {},
   "outputs": [],
   "source": [
    "try:\n",
    "    os.system('rm -r ' + logSettings[\"output_directory\"])\n",
    "except:\n",
    "    pass\n",
    "\n",
    "logger = logging.Logger(logSettings[\"verbose\"],\n",
    "                        logSettings[\"output_directory\"],\n",
    "                        logSettings[\"print_interval\"])"
   ]
  },
  {
   "cell_type": "code",
   "execution_count": null,
   "metadata": {},
   "outputs": [],
   "source": [
    "randGenerator = np.random.default_rng(dataSettings[\"rng_seed\"])\n",
    "randLocs = randGenerator.uniform(*dataSettings[\"domain_bounds\"], dataSettings[\"num_domain_points\"])\n",
    "randTimes = np.linspace(*dataSettings[\"time_bounds\"], dataSettings[\"num_time_points\"])\n",
    "\n",
    "dataSettings[\"domain_points\"] = randLocs\n",
    "dataSettings[\"time_points\"] = randTimes\n",
    "dataSettings[\"fem_settings\"] = feSettings\n",
    "dataSettings[\"solver_settings\"] = transientSettings\n",
    "\n",
    "processType = processes.get_process(dataSettings[\"process_type\"])\n",
    "process = processType(dataSettings[\"drift_parameters\"],\n",
    "                      dataSettings[\"diffusion_parameters\"],\n",
    "                      logger)\n",
    "\n",
    "forwardNoisy, forwardExact = process.generate_data(modelSettings[\"model_type\"],\n",
    "                                                   modelSettings[\"is_stationary\"],\n",
    "                                                   dataSettings)\n",
    "\n",
    "exactDrift = process.compute_drift(randLocs)\n",
    "exactDiffusion = process.compute_squared_diffusion(randLocs)\n",
    "exactParamValues = np.column_stack((exactDrift, exactDiffusion))\n",
    "\n",
    "exactParamData = [randLocs, exactParamValues]\n",
    "randForwardData = [randLocs, randTimes, forwardNoisy]\n",
    "exactForwardData = [randLocs, randTimes, forwardExact]\n",
    "\n",
    "misFitSettings = {\n",
    "    \"data_locations\": randLocs,\n",
    "    \"data_times\": randTimes,\n",
    "    \"data_values\": forwardNoisy,\n",
    "    \"data_var\": dataSettings[\"standard_deviation\"]**2\n",
    "}"
   ]
  },
  {
   "cell_type": "code",
   "execution_count": null,
   "metadata": {},
   "outputs": [],
   "source": [
    "inferenceModel = model.SDEInferenceModel(modelSettings,\n",
    "                                         priorSettings,\n",
    "                                         feSettings,\n",
    "                                         misFitSettings,\n",
    "                                         transientSettings,\n",
    "                                         logger)\n",
    "\n",
    "priorMeanData, priorVarianceData, priorForwardData = inferenceModel.get_prior_info(\"Randomized\")"
   ]
  },
  {
   "cell_type": "code",
   "execution_count": 8,
   "metadata": {},
   "outputs": [],
   "source": [
    "test_data = priorForwardData[2]"
   ]
  },
  {
   "cell_type": "code",
   "execution_count": null,
   "metadata": {},
   "outputs": [],
   "source": [
    "mapMeanData, mapVarianceData, mapForwardData, hessEigVals \\\n",
    "    = inferenceModel.compute_gr_posterior(solverSettings, hessianSettings)"
   ]
  }
 ],
 "metadata": {
  "interpreter": {
   "hash": "8c0d30f1a31aad45527c0257fbbb71ca327c197b16f623519a12bcbb73bb1da1"
  },
  "kernelspec": {
   "display_name": "Python 3.9.7 64-bit ('sde_inference': conda)",
   "language": "python",
   "name": "python3"
  },
  "language_info": {
   "codemirror_mode": {
    "name": "ipython",
    "version": 3
   },
   "file_extension": ".py",
   "mimetype": "text/x-python",
   "name": "python",
   "nbconvert_exporter": "python",
   "pygments_lexer": "ipython3",
   "version": "3.10.12"
  }
 },
 "nbformat": 4,
 "nbformat_minor": 2
}
