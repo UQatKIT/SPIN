{
 "cells": [
  {
   "cell_type": "markdown",
   "metadata": {},
   "source": [
    "# Imports"
   ]
  },
  {
   "cell_type": "code",
   "execution_count": null,
   "metadata": {},
   "outputs": [],
   "source": [
    "import dolfin as dl\n",
    "import hippylib as hl\n",
    "import matplotlib.pyplot as plt\n",
    "import numpy as np\n",
    "import seaborn as sns\n",
    "\n",
    "from spin.core import problem\n",
    "from spin.fenics import converter\n",
    "from spin.hippylib import hessian, laplace, misfit, optimization, prior\n",
    "\n",
    "sns.set_theme(style=\"ticks\")"
   ]
  },
  {
   "cell_type": "markdown",
   "metadata": {},
   "source": [
    "# PDE Problem and Data"
   ]
  },
  {
   "cell_type": "code",
   "execution_count": null,
   "metadata": {},
   "outputs": [],
   "source": [
    "mesh = dl.RectangleMesh(dl.Point(-0.75, -0.75), dl.Point(0.75, 0.75), 50, 50)\n",
    "problem_settings = problem.SPINProblemSettings(\n",
    "    mesh=mesh,\n",
    "    pde_type=\"mean_exit_time\",\n",
    "    inference_type=\"drift_only\",\n",
    "    log_squared_diffusion=(\"std::log(std::pow(x[0],2) + std::pow(x[1],2) + 2)\", \"std::log(1)\"),\n",
    ")\n",
    "problem_builder = problem.SPINProblemBuilder(problem_settings)\n",
    "spin_problem = problem_builder.build()"
   ]
  },
  {
   "cell_type": "code",
   "execution_count": null,
   "metadata": {},
   "outputs": [],
   "source": [
    "parameter_coordinates = spin_problem.coordinates_parameters\n",
    "solution_coordinates = spin_problem.coordinates_variables\n",
    "true_parameter = converter.create_dolfin_function(\n",
    "    (\"-2*std::pow(x[0]+x[1],3) + 3*x[0] + x[1]\", \"-x[0]-2*x[1]\"),\n",
    "    spin_problem.function_space_parameters,\n",
    ")\n",
    "true_parameter = converter.convert_to_numpy(\n",
    "    true_parameter.vector(), spin_problem.function_space_parameters\n",
    ")\n",
    "true_solution = spin_problem.solve_forward(true_parameter)"
   ]
  },
  {
   "cell_type": "code",
   "execution_count": null,
   "metadata": {},
   "outputs": [],
   "source": [
    "noise_std = 0.01\n",
    "num_data_points = 100\n",
    "rng = np.random.default_rng(seed=0)\n",
    "data_indices = rng.integers(1, true_solution.size - 1, size=num_data_points)\n",
    "data_locations = solution_coordinates[data_indices, :]\n",
    "data_values = true_solution[data_indices]\n",
    "noise = rng.normal(loc=0, scale=noise_std, size=data_values.shape)\n",
    "data_values = data_values + noise"
   ]
  },
  {
   "cell_type": "code",
   "execution_count": null,
   "metadata": {},
   "outputs": [],
   "source": [
    "fig, axs = plt.subplots(nrows=1, ncols=2, figsize=(10, 4), layout=\"constrained\")\n",
    "contour_plot = axs[0].tricontourf(\n",
    "    parameter_coordinates[:, 0],\n",
    "    parameter_coordinates[:, 1],\n",
    "    true_parameter[0, :],\n",
    "    levels=50,\n",
    "    cmap=\"Blues\",\n",
    ")\n",
    "fig.colorbar(contour_plot)\n",
    "axs[0].set_title(\"True parameter\")\n",
    "axs[0].set_xlabel(\"x\")\n",
    "axs[0].set_ylabel(\"y\")\n",
    "axs[0].text(\n",
    "    0.2, 0.5, r\"$b_1(x, y)$\", bbox={\"facecolor\": \"white\", \"boxstyle\": \"round\", \"alpha\": 0.7}\n",
    ")\n",
    "contour_plot = axs[1].tricontourf(\n",
    "    parameter_coordinates[:, 0],\n",
    "    parameter_coordinates[:, 1],\n",
    "    true_parameter[1, :],\n",
    "    levels=50,\n",
    "    cmap=\"Blues\",\n",
    ")\n",
    "fig.colorbar(contour_plot)\n",
    "axs[1].set_title(\"True parameter\")\n",
    "axs[1].set_xlabel(\"x\")\n",
    "axs[1].set_ylabel(\"y\")\n",
    "axs[1].text(\n",
    "    0.2, 0.5, r\"$b_2(x, y)$\", bbox={\"facecolor\": \"white\", \"boxstyle\": \"round\", \"alpha\": 0.7}\n",
    ")\n",
    "\n",
    "fig, axs = plt.subplots(nrows=1, ncols=2, figsize=(10, 4), layout=\"constrained\")\n",
    "contour_plot = axs[0].tricontourf(\n",
    "    solution_coordinates[:, 0],\n",
    "    solution_coordinates[:, 1],\n",
    "    true_solution,\n",
    "    levels=50,\n",
    "    cmap=\"Blues\",\n",
    ")\n",
    "fig.colorbar(contour_plot)\n",
    "axs[0].set_title(\"True solution\")\n",
    "axs[0].set_xlabel(\"x\")\n",
    "axs[0].set_ylabel(\"y\")\n",
    "axs[0].text(\n",
    "    0.2, 0.5, r\"$\\tau(x, y)$\", bbox={\"facecolor\": \"white\", \"boxstyle\": \"round\", \"alpha\": 0.7}\n",
    ")\n",
    "scatter_plot = axs[1].scatter(\n",
    "    data_locations[:, 0], data_locations[:, 1], c=data_values, cmap=\"Blues\"\n",
    ")\n",
    "fig.colorbar(scatter_plot)\n",
    "axs[1].set_title(\"Data\")\n",
    "axs[1].set_xlabel(\"x\")\n",
    "axs[1].set_ylabel(\"y\")\n",
    "axs[1].text(\n",
    "    0.4, 0.65, r\"$d_\\tau(x, y)$\", bbox={\"facecolor\": \"gray\", \"boxstyle\": \"round\", \"alpha\": 0.5}\n",
    ")"
   ]
  },
  {
   "cell_type": "markdown",
   "metadata": {},
   "source": [
    "# Prior"
   ]
  },
  {
   "cell_type": "code",
   "execution_count": null,
   "metadata": {},
   "outputs": [],
   "source": [
    "prior_settings = prior.PriorSettings(\n",
    "    function_space=spin_problem.function_space_parameters,\n",
    "    mean=(\"-x[0] - x[1]\", \"-x[0] - x[1]\"),\n",
    "    variance=(\"1\", \"1\"),\n",
    "    correlation_length=(\"0.75\", \"0.75\"),\n",
    "    robin_bc=True,\n",
    "    robin_bc_const=1.42,\n",
    ")\n",
    "prior_builder = prior.BilaplacianVectorPriorBuilder(prior_settings)\n",
    "spin_prior = prior_builder.build()\n",
    "prior_variance = spin_prior.compute_variance_with_boundaries(\n",
    "    method=\"Randomized\", num_eigenvalues_randomized=500\n",
    ")"
   ]
  },
  {
   "cell_type": "code",
   "execution_count": null,
   "metadata": {},
   "outputs": [],
   "source": [
    "fig, axs = plt.subplots(nrows=2, ncols=2, figsize=(11, 9), layout=\"constrained\")\n",
    "contour_plot = axs[0, 0].tricontourf(\n",
    "    parameter_coordinates[:, 0],\n",
    "    parameter_coordinates[:, 1],\n",
    "    spin_prior.mean_array[0, :],\n",
    "    levels=50,\n",
    "    cmap=\"Blues\",\n",
    ")\n",
    "fig.colorbar(contour_plot)\n",
    "axs[0, 0].set_title(r\"Prior mean $b_1(x,y)$\")\n",
    "axs[0, 0].set_xlabel(\"x\")\n",
    "axs[0, 0].set_ylabel(\"y\")\n",
    "contour_plot = axs[0, 1].tricontourf(\n",
    "    parameter_coordinates[:, 0],\n",
    "    parameter_coordinates[:, 1],\n",
    "    prior_variance[0, :],\n",
    "    levels=50,\n",
    "    cmap=\"Blues\",\n",
    ")\n",
    "fig.colorbar(contour_plot)\n",
    "axs[0, 1].set_title(r\"Prior variance $b_1(x,y)$\")\n",
    "axs[0, 1].set_xlabel(\"x\")\n",
    "axs[0, 1].set_ylabel(\"y\")\n",
    "contour_plot = axs[1, 0].tricontourf(\n",
    "    parameter_coordinates[:, 0],\n",
    "    parameter_coordinates[:, 1],\n",
    "    spin_prior.mean_array[0, :],\n",
    "    levels=50,\n",
    "    cmap=\"Blues\",\n",
    ")\n",
    "fig.colorbar(contour_plot)\n",
    "axs[1, 0].set_title(r\"Prior mean $b_2(x,y)$\")\n",
    "axs[1, 0].set_xlabel(\"x\")\n",
    "axs[1, 0].set_ylabel(\"y\")\n",
    "contour_plot = axs[1, 1].tricontourf(\n",
    "    parameter_coordinates[:, 0],\n",
    "    parameter_coordinates[:, 1],\n",
    "    prior_variance[1, :],\n",
    "    levels=50,\n",
    "    cmap=\"Blues\",\n",
    ")\n",
    "fig.colorbar(contour_plot)\n",
    "axs[1, 1].set_title(r\"Prior variance $b_2(x,y)$\")\n",
    "axs[1, 1].set_xlabel(\"x\")\n",
    "axs[1, 1].set_ylabel(\"y\")"
   ]
  },
  {
   "cell_type": "markdown",
   "metadata": {},
   "source": [
    "# Misfit and Inference Model"
   ]
  },
  {
   "cell_type": "code",
   "execution_count": null,
   "metadata": {},
   "outputs": [],
   "source": [
    "misfit_settings = misfit.MisfitSettings(\n",
    "    function_space=spin_problem.function_space_variables,\n",
    "    observation_points=data_locations,\n",
    "    observation_values=data_values,\n",
    "    noise_variance=np.ones(data_locations.size) * noise_std**2,\n",
    ")\n",
    "misfit_builder = misfit.MisfitBuilder(misfit_settings)\n",
    "spin_misfit = misfit_builder.build()"
   ]
  },
  {
   "cell_type": "code",
   "execution_count": null,
   "metadata": {},
   "outputs": [],
   "source": [
    "inference_model = hl.Model(\n",
    "    spin_problem.hippylib_variational_problem,\n",
    "    spin_prior.hippylib_prior,\n",
    "    spin_misfit.hippylib_misfit,\n",
    ")"
   ]
  },
  {
   "cell_type": "markdown",
   "metadata": {},
   "source": [
    "# Optimization"
   ]
  },
  {
   "cell_type": "code",
   "execution_count": null,
   "metadata": {},
   "outputs": [],
   "source": [
    "optimization_settings = optimization.SolverSettings(\n",
    "    relative_tolerance=1e-8, absolute_tolerance=1e-12, verbose=True\n",
    ")\n",
    "initial_guess = spin_prior.mean_array\n",
    "newton_solver = optimization.NewtonCGSolver(optimization_settings, inference_model)\n",
    "solver_solution = newton_solver.solve(initial_guess)\n",
    "print(\"Termination reason:\", solver_solution.termination_reason)"
   ]
  },
  {
   "cell_type": "markdown",
   "metadata": {},
   "source": [
    "# Low-Rank Hessian"
   ]
  },
  {
   "cell_type": "code",
   "execution_count": null,
   "metadata": {},
   "outputs": [],
   "source": [
    "hessian_settings = hessian.LowRankHessianSettings(\n",
    "    num_eigenvalues=15,\n",
    "    num_oversampling=5,\n",
    "    inference_model=inference_model,\n",
    "    evaluation_point=[\n",
    "        solver_solution.forward_solution,\n",
    "        solver_solution.optimal_parameter,\n",
    "        solver_solution.adjoint_solution,\n",
    "    ],\n",
    ")\n",
    "eigenvalues, eigenvectors = hessian.compute_low_rank_hessian(hessian_settings)"
   ]
  },
  {
   "cell_type": "code",
   "execution_count": null,
   "metadata": {},
   "outputs": [],
   "source": [
    "index_vector = np.arange(1, eigenvalues.size + 1)\n",
    "_, ax = plt.subplots(figsize=(4, 4), layout=\"constrained\")\n",
    "ax.semilogy(index_vector, eigenvalues, marker=\"o\")\n",
    "ax.set_title(\"Eigenvalues\")\n",
    "ax.set_xticks((1, 5, 10, 15))\n",
    "ax.set_xlabel(r\"$i$\")\n",
    "ax.set_ylabel(r\"$\\lambda_i$\")"
   ]
  },
  {
   "cell_type": "markdown",
   "metadata": {},
   "source": [
    "# Laplace Approximation"
   ]
  },
  {
   "cell_type": "code",
   "execution_count": null,
   "metadata": {},
   "outputs": [],
   "source": [
    "laplace_approximation_settings = laplace.LowRankLaplaceApproximationSettings(\n",
    "    inference_model=inference_model,\n",
    "    mean=solver_solution.optimal_parameter,\n",
    "    low_rank_hessian_eigenvalues=eigenvalues,\n",
    "    low_rank_hessian_eigenvectors=eigenvectors,\n",
    ")\n",
    "laplace_approximation = laplace.LowRankLaplaceApproximation(laplace_approximation_settings)\n",
    "posterior_variance = laplace_approximation.compute_pointwise_variance(\n",
    "    method=\"Randomized\", num_eigenvalues_randomized=50\n",
    ")\n",
    "posterior_predictive = spin_problem.solve_forward(solver_solution.optimal_parameter)"
   ]
  },
  {
   "cell_type": "code",
   "execution_count": null,
   "metadata": {},
   "outputs": [],
   "source": [
    "_, axs = plt.subplots(nrows=1, ncols=2, figsize=(8, 4), layout=\"constrained\")\n",
    "axs[0].plot(parameter_coordinates, solver_solution.optimal_parameter, label=\"Mean\")\n",
    "axs[0].fill_between(\n",
    "    parameter_coordinates.flatten(),\n",
    "    solver_solution.optimal_parameter - 1.96 * np.sqrt(posterior_variance),\n",
    "    solver_solution.optimal_parameter + 1.96 * np.sqrt(posterior_variance),\n",
    "    alpha=0.3,\n",
    "    label=\"95% CI\",\n",
    ")\n",
    "axs[0].set_title(\"Laplace approximation\")\n",
    "axs[0].set_xlabel(r\"$x$\")\n",
    "axs[0].set_ylabel(r\"$b(x)$\")\n",
    "axs[0].set_xlim((-1.5, 1.5))\n",
    "axs[0].legend()\n",
    "\n",
    "axs[1].plot(solution_coordinates, true_solution)\n",
    "axs[1].scatter(data_locations, data_values, color=\"firebrick\", label=\"Data\")\n",
    "axs[1].set_title(\"Posterior mean predictive\")\n",
    "axs[1].set_xlabel(r\"$x$\")\n",
    "axs[1].set_ylabel(r\"$\\tau(x)$\")\n",
    "axs[1].set_xlim((-1.5, 1.5))\n",
    "axs[1].legend()"
   ]
  }
 ],
 "metadata": {
  "kernelspec": {
   "display_name": "all",
   "language": "python",
   "name": "python3"
  },
  "language_info": {
   "codemirror_mode": {
    "name": "ipython",
    "version": 3
   },
   "file_extension": ".py",
   "mimetype": "text/x-python",
   "name": "python",
   "nbconvert_exporter": "python",
   "pygments_lexer": "ipython3",
   "version": "3.12.8"
  }
 },
 "nbformat": 4,
 "nbformat_minor": 2
}
