{
 "cells": [
  {
   "cell_type": "markdown",
   "metadata": {},
   "source": [
    "The first example notebook introduces some of the library's basic functionalities for a simple use case. This use case is the non-parametric inference of the drift function of a stochastic process, given its diffusion function. The necessary data is provided in the form of perturbed mean exit time values from an Ornstein-Uhlenbeck process. As of now, the computations are restricted to one-dimensional spacial domains.\n",
    "\n",
    "The presented steps include data generation, linearized inference and the visualization of the results."
   ]
  },
  {
   "cell_type": "code",
   "execution_count": 1,
   "metadata": {},
   "outputs": [],
   "source": [
    "import os\n",
    "import numpy as np\n",
    "\n",
    "from sp_inference import processes, model, postprocessing, logging"
   ]
  },
  {
   "cell_type": "markdown",
   "metadata": {},
   "source": [
    "The configuration is centered around python dictionaries and numpy data structures. Most dictionaries serve as direct input for the library components, whereas the remaining dicts are just for concise representation of the settings."
   ]
  },
  {
   "cell_type": "code",
   "execution_count": 2,
   "metadata": {},
   "outputs": [],
   "source": [
    "# Settings of the logger, which is shared by all library components\n",
    "# The data is saved into a pre-defined file structure to reduce the number of settings\n",
    "logSettings = {\n",
    "    # Output folder; if None is specified, no data is saved\n",
    "    \"output_directory\":           \"01_example_single_parameter\",\n",
    "    # Decides if log info is printed to the screen\n",
    "    \"verbose\":                    True\n",
    "}\n",
    "\n",
    "# Settings for the generation of data from a prototypical stochastic process\n",
    "dataSettings = {\n",
    "    # Process type, check the 'processes' module for options\n",
    "    \"process_type\":               \"OUProcess\",\n",
    "    # Parameter(s) for the drift function (linear for Ornstein-Uhlenbeck)\n",
    "    \"drift_parameters\":           1,\n",
    "    # Parameter(s) for the diffusion function (constant for Ornstein-Uhlenbeck)\n",
    "    \"diffusion_parameters\":       1,\n",
    "    # Standard deviation of the zero-centered Gaussian noise on the generated data\n",
    "    \"standard_deviation\":         0.02,\n",
    "    # RNG seed for data point generation\n",
    "    \"rng_seed\":                   0,\n",
    "    # Number of data points to generate\n",
    "    \"num_points\":                 50,\n",
    "    # Spacial domain on which to compute data (here for the mean exit time)\n",
    "    \"domain_bounds\":              [-1, 1]\n",
    "}\n",
    "\n",
    "# Settings for the inference model\n",
    "modelSettings = {\n",
    "    # Which parameter(s) to infer, can be 'drift', 'diffusion', or 'all'\n",
    "    \"params_to_infer\":            \"drift\",\n",
    "    # Model type describing the PDE constraint of the inference problem and source of the data.\n",
    "    # For options have a look at the implemented 'forms' in the 'pde_problems' module\n",
    "    \"model_type\":                 \"mean_exit_time\",\n",
    "    # Determines if the underlying pde problem is treated as stationary or transient\n",
    "    # All models can possibly be made transient, but for e.g. the mean exit time problem this would\n",
    "    # lead to errornous results.\n",
    "    \"is_stationary\":              True\n",
    "}\n",
    "\n",
    "# Settings of the Bi-Laplacian prior transferred from the hIPPYlib library\n",
    "priorSettings = {\n",
    "    # Mean function (for the drift)\n",
    "    \"mean_function\":              lambda x: np.ones(x.shape),\n",
    "    # Parameter for the covariance operator\n",
    "    \"gamma\":                      1,\n",
    "    # Parameter for the covariance operator\n",
    "    \"delta\":                      2,\n",
    "    # Determines if Robin boundary conditions are used for the computation of the covariance field\n",
    "    \"robin_bc\":                   False\n",
    "}\n",
    "\n",
    "# Settings for the FEM solver of the PDE constraint used for the inference problem\n",
    "feSettings = {\n",
    "    # Number of mesh points\n",
    "    \"num_mesh_points\":            500,\n",
    "    # Locations of the spacial domain boundaries\n",
    "    \"boundary_locations\":         [-1, 1],\n",
    "    # Dirichlet boundary values (homogeneous for mean exit time problem)\n",
    "    \"boundary_values\":            [0, 0],\n",
    "    # FEM element degrees for PDE solution (+ adjoint) and parameter function\n",
    "    \"element_degrees\":            [1, 1],\n",
    "    # Pre-determined diffusion function that is not inferred from the data\n",
    "    \"squared_diffusion_function\": lambda x: np.ones(x.shape)\n",
    "}\n",
    "\n",
    "# Settings of the solver for the linearized inference problem (MAP).\n",
    "# This is an inexact Newton-CG solver with Armijo line search for globalization\n",
    "solverSettings = {\n",
    "    # Relative termination tolerance in the objective functional gradient norm\n",
    "    \"rel_tolerance\":              1e-6,\n",
    "    # Relative termination tolerance in the objective functional gradient norm\n",
    "    \"abs_tolerance\":              1e-12,\n",
    "    # Maximum number of iterations\n",
    "    \"max_iter\":                   50,\n",
    "    # Number of Gauss Newton iterations before switching to Newton\n",
    "    \"GN_iter\":                    5,\n",
    "    # Armijo constant for sufficient reduction\n",
    "    \"c_armijo\":                   1e-4,\n",
    "    # Maximum number of backtracking iterations during line search\n",
    "    \"max_backtracking_iter\":      10\n",
    "}\n",
    "\n",
    "# Settings for the construction of the reduced Hessian of the linearized problem about the MAP\n",
    "hessianSettings = {\n",
    "    # Number of generalized eigenvalue/-vector pairs to include\n",
    "    \"num_eigvals\":                20,\n",
    "    # Number of value to oversample for robustness of the randomized algorithm\n",
    "    \"num_oversampling\":           5\n",
    "}"
   ]
  },
  {
   "cell_type": "code",
   "execution_count": 3,
   "metadata": {},
   "outputs": [
    {
     "name": "stderr",
     "output_type": "stream",
     "text": [
      "rm: cannot remove '01_example_single_parameter': No such file or directory\n"
     ]
    }
   ],
   "source": [
    "try:\n",
    "    os.system('rm -r ' + logSettings[\"output_directory\"])\n",
    "except:\n",
    "    pass\n",
    "\n",
    "# The logger is instantiated as a separate object that is passed to other components\n",
    "logger = logging.Logger(logSettings[\"verbose\"],\n",
    "                        logSettings[\"output_directory\"])"
   ]
  },
  {
   "cell_type": "markdown",
   "metadata": {},
   "source": [
    "We firstly create artificial data from a prototypical stochastic process. The spacial locations of the data points are passed to the generating routine for higher flexibility. The data is generated by superimposing zero-centered Gaussian noise to the exact value of the generating model, here the solution of the process's mean exit time problem. The resulting data is used for the definition of the misfit functional of the inference problem.\n"
   ]
  },
  {
   "cell_type": "code",
   "execution_count": 4,
   "metadata": {},
   "outputs": [
    {
     "name": "stdout",
     "output_type": "stream",
     "text": [
      "===================== Invoke OUProcess =====================\n",
      " \n",
      "Drift Coefficient(s): 1 \n",
      "Diffusion Coefficient(s): 1 \n",
      "\n",
      "Generate MET data:                 Successful \n",
      "\n"
     ]
    }
   ],
   "source": [
    "randGenerator = np.random.default_rng(dataSettings[\"rng_seed\"])\n",
    "randLocs = randGenerator.uniform(*dataSettings[\"domain_bounds\"], dataSettings[\"num_points\"])\n",
    "dataSettings[\"domain_points\"] = randLocs\n",
    "\n",
    "processType = processes.get_process(dataSettings[\"process_type\"])\n",
    "process = processType(dataSettings[\"drift_parameters\"],\n",
    "                      dataSettings[\"diffusion_parameters\"],\n",
    "                      logger)\n",
    "\n",
    "# Generating function returns exact and perturbed data\n",
    "forwardNoisy, forwardExact = process.generate_data(modelSettings[\"model_type\"],\n",
    "                                                   modelSettings[\"is_stationary\"],\n",
    "                                                   dataSettings)\n",
    "\n",
    "exactDrift = process.compute_drift(randLocs)\n",
    "exactParamData = [randLocs, exactDrift]\n",
    "randForwardData = [randLocs, forwardNoisy]\n",
    "exactForwardData = [randLocs,  forwardExact]\n",
    "\n",
    "# New settings dict for the misfit functional\n",
    "misFitSettings = {\n",
    "    \"data_locations\": randLocs,\n",
    "    \"data_values\": forwardNoisy,\n",
    "    \"data_std\": dataSettings[\"standard_deviation\"]\n",
    "}"
   ]
  },
  {
   "cell_type": "code",
   "execution_count": null,
   "metadata": {},
   "outputs": [],
   "source": [
    "import matplotlib.pyplot as plt\n",
    "_, ax = plt.subplots()\n",
    "ax.plot(randLocs, forwardNoisy, label=\"Noisy\")"
   ]
  },
  {
   "cell_type": "markdown",
   "metadata": {},
   "source": [
    "The inference model simply takes settings for the overall model, its prior, the FEM setup and the misfit."
   ]
  },
  {
   "cell_type": "code",
   "execution_count": 5,
   "metadata": {},
   "outputs": [
    {
     "name": "stdout",
     "output_type": "stream",
     "text": [
      "================== Invoke Inference Model ==================\n",
      " \n",
      "Construct PDE Problem:             Successful \n",
      "\n",
      "Construct Prior:                   Calling FFC just-in-time (JIT) compiler, this may take some time.\n",
      "Calling FFC just-in-time (JIT) compiler, this may take some time.\n",
      "Calling FFC just-in-time (JIT) compiler, this may take some time.\n",
      "  Ignoring precision in integral metadata compiled using quadrature representation. Not implemented.\n",
      "Calling FFC just-in-time (JIT) compiler, this may take some time.\n",
      "Calling FFC just-in-time (JIT) compiler, this may take some time.\n",
      "Calling FFC just-in-time (JIT) compiler, this may take some time.\n",
      "Calling FFC just-in-time (JIT) compiler, this may take some time.\n",
      "Calling FFC just-in-time (JIT) compiler, this may take some time.\n",
      "  Ignoring precision in integral metadata compiled using quadrature representation. Not implemented.\n",
      "Successful \n",
      "\n",
      "Construct Misfit:                  "
     ]
    },
    {
     "ename": "TypeError",
     "evalue": "reshape_to_fe_format() takes 1 positional argument but 2 were given",
     "output_type": "error",
     "traceback": [
      "\u001b[0;31m---------------------------------------------------------------------------\u001b[0m",
      "\u001b[0;31mTypeError\u001b[0m                                 Traceback (most recent call last)",
      "Cell \u001b[0;32mIn[5], line 1\u001b[0m\n\u001b[0;32m----> 1\u001b[0m inferenceModel \u001b[39m=\u001b[39m model\u001b[39m.\u001b[39;49mSDEInferenceModel(modelSettings,\n\u001b[1;32m      2\u001b[0m                                          priorSettings,\n\u001b[1;32m      3\u001b[0m                                          feSettings,\n\u001b[1;32m      4\u001b[0m                                          misFitSettings,\n\u001b[1;32m      5\u001b[0m                                          logger\u001b[39m=\u001b[39;49mlogger)\n\u001b[1;32m      7\u001b[0m \u001b[39m# Get drift mean and variance, along with mean exit time solution when using prior info\u001b[39;00m\n\u001b[1;32m      8\u001b[0m priorMeanData, priorVarianceData, priorForwardData \u001b[39m=\u001b[39m inferenceModel\u001b[39m.\u001b[39mget_prior_info(\u001b[39m\"\u001b[39m\u001b[39mRandomized\u001b[39m\u001b[39m\"\u001b[39m)\n",
      "File \u001b[0;32m~/4-Code/spin/sp_inference/inference/model.py:206\u001b[0m, in \u001b[0;36mSDEInferenceModel.__init__\u001b[0;34m(self, modelSettings, priorSettings, feSettings, misfitSettings, transientSettings, logger)\u001b[0m\n\u001b[1;32m    204\u001b[0m \u001b[39mself\u001b[39m\u001b[39m.\u001b[39mpdeProblem \u001b[39m=\u001b[39m \u001b[39mself\u001b[39m\u001b[39m.\u001b[39mconstruct_pde_problem(feSettings, transientSettings)\n\u001b[1;32m    205\u001b[0m \u001b[39mself\u001b[39m\u001b[39m.\u001b[39mprior \u001b[39m=\u001b[39m \u001b[39mself\u001b[39m\u001b[39m.\u001b[39mconstruct_prior(priorSettings)\n\u001b[0;32m--> 206\u001b[0m \u001b[39mself\u001b[39m\u001b[39m.\u001b[39mmisfitFunctional \u001b[39m=\u001b[39m \u001b[39mself\u001b[39;49m\u001b[39m.\u001b[39;49mconstruct_misfit(misfitSettings)\n\u001b[1;32m    207\u001b[0m \u001b[39mself\u001b[39m\u001b[39m.\u001b[39m_logger\u001b[39m.\u001b[39mprint_ljust(\u001b[39m\"\u001b[39m\u001b[39m\"\u001b[39m)\n",
      "File \u001b[0;32m~/4-Code/spin/sp_inference/inference/model.py:363\u001b[0m, in \u001b[0;36mSDEInferenceModel.construct_misfit\u001b[0;34m(self, misfitSettings)\u001b[0m\n\u001b[1;32m    359\u001b[0m \u001b[39mif\u001b[39;00m \u001b[39mself\u001b[39m\u001b[39m.\u001b[39misStationary:\n\u001b[1;32m    360\u001b[0m     misfitFunctional \u001b[39m=\u001b[39m hl\u001b[39m.\u001b[39mPointwiseStateObservation(\u001b[39mself\u001b[39m\u001b[39m.\u001b[39mfuncSpaces[hl\u001b[39m.\u001b[39mSTATE],\n\u001b[1;32m    361\u001b[0m                                                     misfitSettings[\u001b[39m\"\u001b[39m\u001b[39mdata_locations\u001b[39m\u001b[39m\"\u001b[39m])\n\u001b[0;32m--> 363\u001b[0m     data \u001b[39m=\u001b[39m utils\u001b[39m.\u001b[39;49mreshape_to_fe_format(misfitSettings[\u001b[39m\"\u001b[39;49m\u001b[39mdata_values\u001b[39;49m\u001b[39m\"\u001b[39;49m], \u001b[39mself\u001b[39;49m\u001b[39m.\u001b[39;49m_solutionDim)\n\u001b[1;32m    364\u001b[0m     misfitFunctional\u001b[39m.\u001b[39md\u001b[39m.\u001b[39mset_local(data)\n\u001b[1;32m    365\u001b[0m \u001b[39melse\u001b[39;00m:\n",
      "\u001b[0;31mTypeError\u001b[0m: reshape_to_fe_format() takes 1 positional argument but 2 were given"
     ]
    }
   ],
   "source": [
    "inferenceModel = model.SDEInferenceModel(modelSettings,\n",
    "                                         priorSettings,\n",
    "                                         feSettings,\n",
    "                                         misFitSettings,\n",
    "                                         logger=logger)\n",
    "\n",
    "# Get drift mean and variance, along with mean exit time solution when using prior info\n",
    "priorMeanData, priorVarianceData, priorForwardData = inferenceModel.get_prior_info(\"Randomized\")"
   ]
  },
  {
   "cell_type": "markdown",
   "metadata": {},
   "source": [
    "An optimization routine computes the maximum a posteriori (MAP) estimate for the linearized problem. The algorithm employs a second order inexact Newton-CG algorithm to find the optimum. As a result, it returns the MAP point along with the reduced Hessian at that point (only considering a limited number of dominating eigenvalue-eigenvector pairs)."
   ]
  },
  {
   "cell_type": "code",
   "execution_count": null,
   "metadata": {},
   "outputs": [],
   "source": [
    "# Data for mean, variance and forward solution is returned in form of x-y-value pairs over the spacial domain\n",
    "mapMeanData, mapVarianceData, mapForwardData, hessEigVals \\\n",
    "    = inferenceModel.compute_gr_posterior(solverSettings, hessianSettings)"
   ]
  },
  {
   "cell_type": "markdown",
   "metadata": {},
   "source": [
    "The data is visualized conveniently through pre-defined plotting routines that have access to a small data base of figure annotation infos. Settings dictionaries serve as input for the postprocessor."
   ]
  },
  {
   "cell_type": "code",
   "execution_count": null,
   "metadata": {},
   "outputs": [],
   "source": [
    "paramData = {\"prior_mean\": priorMeanData,\n",
    "             \"prior_variance\": priorVarianceData,\n",
    "             \"posterior_mean\": mapMeanData,\n",
    "             \"posterior_variance\": mapVarianceData,\n",
    "             \"exact\": exactParamData}\n",
    "\n",
    "forwardData = {\"prior\": priorForwardData,\n",
    "               \"posterior\": mapForwardData,\n",
    "               \"noisy\": randForwardData,\n",
    "               \"exact\": exactForwardData}\n",
    "\n",
    "# The 'show' parameter determines that the plots are shown in the notebook\n",
    "# The plotting mode is 'linearized' according to the solution procedure\n",
    "postprocessor = postprocessing.Postprocessor(show=True, logger=logger)\n",
    "postprocessor.visualize_hessian_data(hessEigVals)\n",
    "postprocessor.visualize_parameters(paramsInferred=modelSettings[\"params_to_infer\"],\n",
    "                                   mode=\"linearized\",\n",
    "                                   data=paramData)                              \n",
    "postprocessor.visualize_forward_solution(modelType=modelSettings[\"model_type\"],\n",
    "                                         mode=\"linearized\",\n",
    "                                         isStationary=modelSettings[\"is_stationary\"],\n",
    "                                         data=forwardData)"
   ]
  }
 ],
 "metadata": {
  "interpreter": {
   "hash": "8c0d30f1a31aad45527c0257fbbb71ca327c197b16f623519a12bcbb73bb1da1"
  },
  "kernelspec": {
   "display_name": "Python 3.9.7 64-bit ('sde_inference': conda)",
   "language": "python",
   "name": "python3"
  },
  "language_info": {
   "codemirror_mode": {
    "name": "ipython",
    "version": 3
   },
   "file_extension": ".py",
   "mimetype": "text/x-python",
   "name": "python",
   "nbconvert_exporter": "python",
   "pygments_lexer": "ipython3",
   "version": "3.10.12"
  }
 },
 "nbformat": 4,
 "nbformat_minor": 2
}
