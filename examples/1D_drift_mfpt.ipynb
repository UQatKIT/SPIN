{
 "cells": [
  {
   "cell_type": "code",
   "execution_count": 1,
   "metadata": {},
   "outputs": [],
   "source": [
    "import dolfin as dl\n",
    "import hippylib as hl\n",
    "import matplotlib.pyplot as plt\n",
    "import numpy as np\n",
    "import seaborn as sns\n",
    "\n",
    "from spin.core import problem\n",
    "from spin.fenics import converter\n",
    "from spin.hippylib import hessian, laplace, misfit, optimization, prior\n",
    "\n",
    "sns.set_theme(style=\"ticks\")"
   ]
  },
  {
   "cell_type": "code",
   "execution_count": 2,
   "metadata": {},
   "outputs": [],
   "source": [
    "mesh = dl.IntervalMesh(100, -1, 1)\n",
    "problem_settings = problem.SPINProblemSettings(\n",
    "    mesh=mesh,\n",
    "    pde_type=\"mean_exit_time\",\n",
    "    inference_type=\"drift_only\",\n",
    "    drift=(\"-x[0]\",),\n",
    "    log_squared_diffusion=(\"std::log(1.0)\",),\n",
    ")\n",
    "problem_builder = problem.SPINProblemBuilder(problem_settings)\n",
    "spin_problem = problem_builder.build()"
   ]
  },
  {
   "cell_type": "code",
   "execution_count": 30,
   "metadata": {},
   "outputs": [],
   "source": [
    "parameter_coordinates = spin_problem.coordinates_parameters\n",
    "solution_coordinates = spin_problem.coordinates_variables\n",
    "true_parameter = converter.create_dolfin_function(\n",
    "    (\"-x[0]\",), spin_problem.function_space_parameters\n",
    ")\n",
    "true_parameter = true_parameter.vector().get_local()\n",
    "true_solution = spin_problem.solve_forward(true_parameter)\n",
    "data_stride = 5\n",
    "data_locations = solution_coordinates[::data_stride]\n",
    "data_values = true_solution[::data_stride]\n",
    "rng = np.random.default_rng(seed=0)\n",
    "noise_std = 0.02\n",
    "noise = rng.normal(loc=0, scale=noise_std, size=data_values.size)\n",
    "data_values = data_values + noise"
   ]
  },
  {
   "cell_type": "code",
   "execution_count": null,
   "metadata": {},
   "outputs": [],
   "source": [
    "_, axs = plt.subplots(nrows=1, ncols=2, figsize=(10, 5), layout=\"constrained\")\n",
    "axs[0].plot(parameter_coordinates, true_parameter)\n",
    "axs[0].set_xticks((-1, -0.5, 0, 0.5, 1))\n",
    "axs[0].set_yticks((-1, -0.5, 0, 0.5, 1))\n",
    "axs[0].set_title(\"True drift\")\n",
    "axs[0].set_xlabel(r\"$x$\")\n",
    "axs[0].set_ylabel(r\"$b(x)$\")\n",
    "axs[1].plot(solution_coordinates, true_solution, label=\"Exact\")\n",
    "axs[1].scatter(data_locations, data_values, color=\"firebrick\", label=\"Data\")\n",
    "axs[1].set_xticks((-1, -0.5, 0, 0.5, 1))\n",
    "axs[1].set_yticks((0, 0.3, 0.6, 0.9, 1.2, 1.5))\n",
    "axs[1].set_title(\"True solution\")\n",
    "axs[1].set_xlabel(r\"$x$\")\n",
    "axs[1].set_ylabel(r\"$\\tau(x)$\")\n",
    "axs[1].legend()"
   ]
  },
  {
   "cell_type": "code",
   "execution_count": 32,
   "metadata": {},
   "outputs": [],
   "source": [
    "prior_settings = prior.PriorSettings(\n",
    "    function_space=spin_problem.function_space_parameters,\n",
    "    mean=(\"-0.5*x[0]\",),\n",
    "    variance=(\"0.1\",),\n",
    "    correlation_length=(\"0.1\",),\n",
    "    robin_bc=False,\n",
    ")\n",
    "prior_builder = prior.BilaplacianVectorPriorBuilder(prior_settings)\n",
    "spin_prior = prior_builder.build()\n",
    "prior_variance = spin_prior.compute_variance_with_boundaries(\n",
    "    method=\"Randomized\", num_eigenvalues_randomized=100\n",
    ")"
   ]
  },
  {
   "cell_type": "code",
   "execution_count": null,
   "metadata": {},
   "outputs": [],
   "source": [
    "_, ax = plt.subplots(figsize=(5, 5), layout=\"constrained\")\n",
    "ax.plot(parameter_coordinates, spin_prior.mean_array, label=\"Mean\")\n",
    "ax.fill_between(\n",
    "    parameter_coordinates.flatten(),\n",
    "    spin_prior.mean_array - 1.96 * np.sqrt(prior_variance),\n",
    "    spin_prior.mean_array + 1.96 * np.sqrt(prior_variance),\n",
    "    alpha=0.3,\n",
    "    label=\"95% CI\",\n",
    ")\n",
    "ax.set_title(\"Prior\")\n",
    "ax.set_xticks((-1, -0.5, 0, 0.5, 1))\n",
    "ax.set_xlim((-1, 1))\n",
    "ax.legend()"
   ]
  },
  {
   "cell_type": "code",
   "execution_count": 34,
   "metadata": {},
   "outputs": [],
   "source": [
    "misfit_settings = misfit.MisfitSettings(\n",
    "    function_space=spin_problem.function_space_variables,\n",
    "    observation_points=data_locations,\n",
    "    observation_values=data_values,\n",
    "    noise_variance=np.ones(data_locations.size) * noise_std ** 2,\n",
    ")\n",
    "misfit_builder = misfit.MisfitBuilder(misfit_settings)\n",
    "spin_misfit = misfit_builder.build()"
   ]
  },
  {
   "cell_type": "code",
   "execution_count": 35,
   "metadata": {},
   "outputs": [],
   "source": [
    "inference_model = hl.Model(\n",
    "    spin_problem.hippylib_variational_problem, spin_prior.hippylib_prior, spin_misfit\n",
    ")"
   ]
  },
  {
   "cell_type": "code",
   "execution_count": null,
   "metadata": {},
   "outputs": [],
   "source": [
    "optimization_settings = optimization.SolverSettings(\n",
    "    relative_tolerance=1e-8, absolute_tolerance=1e-8, verbose=True\n",
    ")\n",
    "initial_guess = spin_prior.mean_array\n",
    "newton_solver = optimization.NewtonCGSolver(optimization_settings, inference_model)\n",
    "solver_solution = newton_solver.solve(initial_guess)"
   ]
  },
  {
   "cell_type": "code",
   "execution_count": 37,
   "metadata": {},
   "outputs": [],
   "source": [
    "hessian_settings = hessian.LowRankHessianSettings(\n",
    "    num_eigenvalues=20,\n",
    "    num_oversampling=5,\n",
    "    inference_model=inference_model,\n",
    "    evaluation_point=[\n",
    "        solver_solution.forward_solution,\n",
    "        solver_solution.optimal_parameter,\n",
    "        solver_solution.adjoint_solution,\n",
    "    ],\n",
    ")\n",
    "eigenvalues, eigenvectors = hessian.compute_low_rank_hessian(hessian_settings)"
   ]
  },
  {
   "cell_type": "code",
   "execution_count": null,
   "metadata": {},
   "outputs": [],
   "source": [
    "index_vector = np.arange(1, eigenvalues.size + 1)\n",
    "_, ax = plt.subplots(figsize=(5, 5), layout=\"constrained\")\n",
    "ax.semilogy(index_vector, eigenvalues, marker=\"o\")\n",
    "ax.set_xlabel(r\"$i$\")\n",
    "ax.set_ylabel(r\"$\\lambda_i$\")"
   ]
  },
  {
   "cell_type": "code",
   "execution_count": 39,
   "metadata": {},
   "outputs": [],
   "source": [
    "laplace_approximation_settings = laplace.LowRankLaplaceApproximationSettings(\n",
    "    inference_model=inference_model,\n",
    "    mean=solver_solution.optimal_parameter,\n",
    "    low_rank_hessian_eigenvalues=eigenvalues,\n",
    "    low_rank_hessian_eigenvectors=eigenvectors,\n",
    ")\n",
    "laplace_approximation = laplace.LowRankLaplaceApproximation(laplace_approximation_settings)\n",
    "posterior_variance = laplace_approximation.compute_pointwise_variance(\n",
    "    method=\"Randomized\", num_eigenvalues_randomized=100\n",
    ")"
   ]
  },
  {
   "cell_type": "code",
   "execution_count": null,
   "metadata": {},
   "outputs": [],
   "source": [
    "_, ax = plt.subplots(figsize=(5, 5), layout=\"constrained\")\n",
    "ax.plot(parameter_coordinates, solver_solution.optimal_parameter, label=\"Mean\")\n",
    "ax.fill_between(\n",
    "    parameter_coordinates.flatten(),\n",
    "    solver_solution.optimal_parameter - 1.96 * np.sqrt(posterior_variance),\n",
    "    solver_solution.optimal_parameter + 1.96 * np.sqrt(posterior_variance),\n",
    "    alpha=0.3,\n",
    "    label=\"95% CI\",\n",
    ")\n",
    "ax.set_title(\"Laplace approximation\")\n",
    "ax.set_xticks((-1, -0.5, 0, 0.5, 1))\n",
    "ax.set_xlim((-1, 1))\n",
    "ax.legend()"
   ]
  }
 ],
 "metadata": {
  "kernelspec": {
   "display_name": "all",
   "language": "python",
   "name": "python3"
  },
  "language_info": {
   "codemirror_mode": {
    "name": "ipython",
    "version": 3
   },
   "file_extension": ".py",
   "mimetype": "text/x-python",
   "name": "python",
   "nbconvert_exporter": "python",
   "pygments_lexer": "ipython3",
   "version": "3.12.8"
  }
 },
 "nbformat": 4,
 "nbformat_minor": 2
}
