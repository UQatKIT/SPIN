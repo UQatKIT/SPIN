{
 "cells": [
  {
   "cell_type": "code",
   "execution_count": null,
   "metadata": {},
   "outputs": [],
   "source": [
    "import os\n",
    "import numpy as np\n",
    "\n",
    "from sp_inference import processes, model, sampling, logging"
   ]
  },
  {
   "cell_type": "code",
   "execution_count": null,
   "metadata": {},
   "outputs": [],
   "source": [
    "logSettings = {\n",
    "    \"output_directory\":     \"02_example_stationary\",\n",
    "    \"verbose\":              True\n",
    "}\n",
    "\n",
    "dataSettings = {\n",
    "    \"process_type\":         \"Dr31Di20Process\",\n",
    "    \"drift_parameters\":     [2, 3],\n",
    "    \"diffusion_parameters\": [1, 2],\n",
    "    \"standard_deviation\":   0.01,\n",
    "    \"rng_seed\":             0,\n",
    "    \"num_points\":           50,\n",
    "    \"domain_bounds\":        [-1, 1]\n",
    "}\n",
    "\n",
    "modelSettings = {\n",
    "    \"params_to_infer\":      \"all\",\n",
    "    \"model_type\":           \"mean_exit_time\",\n",
    "    \"is_stationary\":        True\n",
    "}\n",
    "\n",
    "priorSettings = {\n",
    "    \"mean_function\":        [\"-0.5*x\", 1.5],\n",
    "    \"variance\":             [0.01, 0.01],\n",
    "    \"correlation_length\":   [0.01, 0.01],\n",
    "    \"robin_bc\":             [True, True],\n",
    "    \"robin_bc_const\":       [5, 5]\n",
    "}\n",
    "\n",
    "feSettings = {\n",
    "    \"num_mesh_points\":      200,\n",
    "    \"boundary_locations\":   [-1, 1],\n",
    "    \"boundary_values\":      [0, 0],\n",
    "    \"element_degrees\":      [1, 1]\n",
    "}\n",
    "\n",
    "solverSettings = {\n",
    "    \"rel_tolerance\":         1e-6,\n",
    "    \"abs_tolerance\":         1e-12,\n",
    "    \"max_iter\":              50,\n",
    "    \"GN_iter\":               5,\n",
    "    \"c_armijo\":              1e-4,\n",
    "    \"max_backtracking_iter\": 10\n",
    "}\n",
    "\n",
    "hessianSettings = {\n",
    "    \"num_eigvals\":           10,\n",
    "    \"num_oversampling\":      10\n",
    "}\n",
    "\n",
    "samplerSettings = {\n",
    "    \"algorithm\":             'MALA',\n",
    "    \"use_gr_posterior\":      True,\n",
    "    \"StepSize\":              0.1\n",
    "}\n",
    "\n",
    "samplingRunSettings = {\n",
    "    \"NumSamples\":            1000,\n",
    "    \"BurnIn\":                100,\n",
    "    \"init_variance\":         0.1,\n",
    "    \"init_seed\":             0\n",
    "}"
   ]
  },
  {
   "cell_type": "code",
   "execution_count": null,
   "metadata": {},
   "outputs": [],
   "source": [
    "try:\n",
    "    os.system('rm -r ' + logSettings[\"output_directory\"])\n",
    "except:\n",
    "    pass\n",
    "\n",
    "logger = logging.Logger(logSettings[\"verbose\"],\n",
    "                        logSettings[\"output_directory\"])"
   ]
  },
  {
   "cell_type": "code",
   "execution_count": null,
   "metadata": {},
   "outputs": [],
   "source": [
    "randGenerator = np.random.default_rng(dataSettings[\"rng_seed\"])\n",
    "randLocs = randGenerator.uniform(*dataSettings[\"domain_bounds\"], dataSettings[\"num_points\"])\n",
    "dataSettings[\"domain_points\"] = randLocs\n",
    "\n",
    "processType = processes.get_process(dataSettings[\"process_type\"])\n",
    "process = processType(dataSettings[\"drift_parameters\"],\n",
    "                      dataSettings[\"diffusion_parameters\"],\n",
    "                      logger)\n",
    "\n",
    "forwardNoisy, forwardExact = process.generate_data(modelSettings[\"model_type\"],\n",
    "                                                   modelSettings[\"is_stationary\"],\n",
    "                                                   dataSettings)\n",
    "exactDrift = process.compute_drift(randLocs)\n",
    "exactDiffusion = process.compute_squared_diffusion(randLocs)\n",
    "\n",
    "misFitSettings = {\n",
    "    \"data_locations\": randLocs,\n",
    "    \"data_values\": forwardNoisy,\n",
    "    \"data_var\": dataSettings[\"standard_deviation\"]**2\n",
    "}"
   ]
  },
  {
   "cell_type": "code",
   "execution_count": null,
   "metadata": {},
   "outputs": [],
   "source": [
    "inferenceModel = model.SDEInferenceModel(modelSettings,\n",
    "                                         priorSettings,\n",
    "                                         feSettings,\n",
    "                                         misFitSettings,\n",
    "                                         logger=logger)\n",
    "mapMeanData, mapVarianceData, mapForwardData, hessEigVals \\\n",
    "    = inferenceModel.compute_gr_posterior(solverSettings, hessianSettings)"
   ]
  },
  {
   "cell_type": "code",
   "execution_count": null,
   "metadata": {},
   "outputs": [],
   "source": [
    "sampler = sampling.MCMCSampler(inferenceModel, samplerSettings, logger)\n",
    "mcmcMeanData, mcmcVarianceData, mcmcForwardData = sampler.run(samplingRunSettings)\n",
    "qoiTrace = sampler.evaluate_qoi()"
   ]
  }
 ],
 "metadata": {
  "interpreter": {
   "hash": "8c0d30f1a31aad45527c0257fbbb71ca327c197b16f623519a12bcbb73bb1da1"
  },
  "kernelspec": {
   "display_name": "Python 3.9.7 64-bit ('sde_inference': conda)",
   "language": "python",
   "name": "python3"
  },
  "language_info": {
   "codemirror_mode": {
    "name": "ipython",
    "version": 3
   },
   "file_extension": ".py",
   "mimetype": "text/x-python",
   "name": "python",
   "nbconvert_exporter": "python",
   "pygments_lexer": "ipython3",
   "version": "3.10.12"
  }
 },
 "nbformat": 4,
 "nbformat_minor": 2
}
