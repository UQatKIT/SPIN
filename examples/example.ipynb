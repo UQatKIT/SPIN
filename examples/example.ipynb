{
 "cells": [
  {
   "cell_type": "code",
   "execution_count": 1,
   "metadata": {},
   "outputs": [],
   "source": [
    "import dolfin as dl\n",
    "import matplotlib.pyplot as plt\n",
    "import numpy as np\n",
    "\n",
    "from spin.core import problem\n",
    "from spin.fenics import converter as fex_converter\n",
    "from spin.hippylib import misfit, prior"
   ]
  },
  {
   "cell_type": "code",
   "execution_count": 2,
   "metadata": {},
   "outputs": [],
   "source": [
    "mesh = dl.IntervalMesh(100, -1, 1)\n",
    "#mesh = dl.RectangleMesh(dl.Point(-1, -1), dl.Point(1, 1), 10, 10)\n",
    "problem_settings = problem.SPINProblemSettings(\n",
    "    mesh=mesh,\n",
    "    pde_type=\"mean_exit_time\",\n",
    "    inference_type=\"drift_only\",\n",
    "    drift=((\"-x[0]\",)),\n",
    "    log_squared_diffusion=(\"std::log(1.0)\",),\n",
    ")"
   ]
  },
  {
   "cell_type": "code",
   "execution_count": 3,
   "metadata": {},
   "outputs": [],
   "source": [
    "problem_builder = problem.SPINProblemBuilder(problem_settings)\n",
    "spin_problem = problem_builder.build()"
   ]
  },
  {
   "cell_type": "code",
   "execution_count": 4,
   "metadata": {},
   "outputs": [
    {
     "data": {
      "text/plain": [
       "(101,)"
      ]
     },
     "execution_count": 4,
     "metadata": {},
     "output_type": "execute_result"
    }
   ],
   "source": [
    "forward_vector = spin_problem.hippylib_variational_problem.generate_state()\n",
    "adjoint_vector = spin_problem.hippylib_variational_problem.generate_state()\n",
    "parameter_vector = spin_problem.hippylib_variational_problem.generate_parameter()\n",
    "parameter_vector.set_local(-np.linspace(-1, 1, parameter_vector.size()))\n",
    "state_list = [forward_vector, parameter_vector, adjoint_vector]\n",
    "spin_problem.hippylib_variational_problem.solveFwd(forward_vector, state_list)\n",
    "forward_array = fex_converter.convert_to_numpy(forward_vector, spin_problem.function_space_variables)\n",
    "forward_array.shape"
   ]
  },
  {
   "cell_type": "code",
   "execution_count": 5,
   "metadata": {},
   "outputs": [
    {
     "data": {
      "text/plain": [
       "(101,)"
      ]
     },
     "execution_count": 5,
     "metadata": {},
     "output_type": "execute_result"
    }
   ],
   "source": [
    "prior_settings = prior.PriorSettings(\n",
    "    function_space = spin_problem.function_space_parameters,\n",
    "    mean=(\"-0.5*x[0]\",),\n",
    "    variance=(\"0.1\",),\n",
    "    correlation_length=(\"0.1\",),\n",
    ")\n",
    "prior_builder = prior.BilaplacianVectorPriorBuilder(prior_settings)\n",
    "spin_prior = prior_builder.build()\n",
    "mean_array = spin_prior.mean_array\n",
    "mean_array.shape"
   ]
  },
  {
   "cell_type": "code",
   "execution_count": 6,
   "metadata": {},
   "outputs": [
    {
     "ename": "BeartypeCallHintReturnViolation",
     "evalue": "Method spin.hippylib.misfit.MisfitBuilder._build_misfit() return \"None\" violates type hint <class 'hippylib.modeling.misfit.Misfit'>, as <class \"builtins.NoneType\"> \"None\" not instance of <class \"hippylib.modeling.misfit.Misfit\">.",
     "output_type": "error",
     "traceback": [
      "\u001b[0;31m---------------------------------------------------------------------------\u001b[0m",
      "\u001b[0;31mBeartypeCallHintReturnViolation\u001b[0m           Traceback (most recent call last)",
      "Cell \u001b[0;32mIn[6], line 8\u001b[0m\n\u001b[1;32m      1\u001b[0m misfit_settings \u001b[38;5;241m=\u001b[39m misfit\u001b[38;5;241m.\u001b[39mMisfitSettings(\n\u001b[1;32m      2\u001b[0m     function_space \u001b[38;5;241m=\u001b[39m spin_problem\u001b[38;5;241m.\u001b[39mfunction_space_variables,\n\u001b[1;32m      3\u001b[0m     observation_points\u001b[38;5;241m=\u001b[39mnp\u001b[38;5;241m.\u001b[39mlinspace(\u001b[38;5;241m-\u001b[39m\u001b[38;5;241m0.9\u001b[39m, \u001b[38;5;241m0.9\u001b[39m, \u001b[38;5;241m10\u001b[39m),\n\u001b[1;32m      4\u001b[0m     observation_values\u001b[38;5;241m=\u001b[39mforward_array \u001b[38;5;241m+\u001b[39m np\u001b[38;5;241m.\u001b[39mrandom\u001b[38;5;241m.\u001b[39mnormal(\u001b[38;5;241m0\u001b[39m, \u001b[38;5;241m0.1\u001b[39m, forward_array\u001b[38;5;241m.\u001b[39mshape),\n\u001b[1;32m      5\u001b[0m     noise_variance\u001b[38;5;241m=\u001b[39m\u001b[38;5;241m0.1\u001b[39m\u001b[38;5;241m*\u001b[39mnp\u001b[38;5;241m.\u001b[39mones(forward_array\u001b[38;5;241m.\u001b[39mshape),\n\u001b[1;32m      6\u001b[0m )\n\u001b[1;32m      7\u001b[0m misfit_builder \u001b[38;5;241m=\u001b[39m misfit\u001b[38;5;241m.\u001b[39mMisfitBuilder(misfit_settings)\n\u001b[0;32m----> 8\u001b[0m \u001b[43mmisfit_builder\u001b[49m\u001b[38;5;241;43m.\u001b[39;49m\u001b[43mbuild\u001b[49m\u001b[43m(\u001b[49m\u001b[43m)\u001b[49m\n",
      "File \u001b[0;32m<@beartype(spin.hippylib.misfit.MisfitBuilder.build) at 0x7fc7bedb4680>:12\u001b[0m, in \u001b[0;36mbuild\u001b[0;34m(__beartype_object_94878722132144, __beartype_get_violation, __beartype_conf, __beartype_check_meta, __beartype_func, *args, **kwargs)\u001b[0m\n",
      "File \u001b[0;32m~/4-Code/spin/src/spin/hippylib/misfit.py:245\u001b[0m, in \u001b[0;36mMisfitBuilder.build\u001b[0;34m(self)\u001b[0m\n\u001b[1;32m    243\u001b[0m \u001b[38;5;28mself\u001b[39m\u001b[38;5;241m.\u001b[39m_observation_matrices \u001b[38;5;241m=\u001b[39m \u001b[38;5;28mself\u001b[39m\u001b[38;5;241m.\u001b[39m_assemble_observation_matrices()\n\u001b[1;32m    244\u001b[0m \u001b[38;5;28mself\u001b[39m\u001b[38;5;241m.\u001b[39m_noise_precision_matrices \u001b[38;5;241m=\u001b[39m \u001b[38;5;28mself\u001b[39m\u001b[38;5;241m.\u001b[39m_assemble_noise_precision_matrices()\n\u001b[0;32m--> 245\u001b[0m misfit \u001b[38;5;241m=\u001b[39m \u001b[38;5;28;43mself\u001b[39;49m\u001b[38;5;241;43m.\u001b[39;49m\u001b[43m_build_misfit\u001b[49m\u001b[43m(\u001b[49m\u001b[43m)\u001b[49m\n\u001b[1;32m    246\u001b[0m \u001b[38;5;28;01mreturn\u001b[39;00m misfit\n",
      "File \u001b[0;32m<@beartype(spin.hippylib.misfit.MisfitBuilder._build_misfit) at 0x7fc7bedb4860>:25\u001b[0m, in \u001b[0;36m_build_misfit\u001b[0;34m(__beartype_object_94878722132144, __beartype_get_violation, __beartype_conf, __beartype_check_meta, __beartype_func, *args, **kwargs)\u001b[0m\n",
      "\u001b[0;31mBeartypeCallHintReturnViolation\u001b[0m: Method spin.hippylib.misfit.MisfitBuilder._build_misfit() return \"None\" violates type hint <class 'hippylib.modeling.misfit.Misfit'>, as <class \"builtins.NoneType\"> \"None\" not instance of <class \"hippylib.modeling.misfit.Misfit\">."
     ]
    }
   ],
   "source": [
    "misfit_settings = misfit.MisfitSettings(\n",
    "    function_space = spin_problem.function_space_variables,\n",
    "    observation_points=np.linspace(-0.9, 0.9, 10),\n",
    "    observation_values=forward_array + np.random.normal(0, 0.1, forward_array.shape),\n",
    "    noise_variance=0.1*np.ones(forward_array.shape),\n",
    ")\n",
    "misfit_builder = misfit.MisfitBuilder(misfit_settings)\n",
    "misfit_builder.build()"
   ]
  }
 ],
 "metadata": {
  "kernelspec": {
   "display_name": "all",
   "language": "python",
   "name": "python3"
  },
  "language_info": {
   "codemirror_mode": {
    "name": "ipython",
    "version": 3
   },
   "file_extension": ".py",
   "mimetype": "text/x-python",
   "name": "python",
   "nbconvert_exporter": "python",
   "pygments_lexer": "ipython3",
   "version": "3.12.8"
  }
 },
 "nbformat": 4,
 "nbformat_minor": 2
}
