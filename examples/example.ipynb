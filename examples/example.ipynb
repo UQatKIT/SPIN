{
 "cells": [
  {
   "cell_type": "code",
   "execution_count": 1,
   "metadata": {},
   "outputs": [],
   "source": [
    "import dolfin as dl\n",
    "import matplotlib.pyplot as plt\n",
    "import numpy as np\n",
    "\n",
    "from spin.core import problem\n",
    "from spin.fenics import converter as fex_converter\n",
    "from spin.hippylib import prior"
   ]
  },
  {
   "cell_type": "code",
   "execution_count": 47,
   "metadata": {},
   "outputs": [],
   "source": [
    "# mesh = dl.IntervalMesh(100, -1, 1)\n",
    "mesh = dl.RectangleMesh(dl.Point(-1, -1), dl.Point(1, 1), 10, 10)\n",
    "problem_settings = problem.SPINProblemSettings(\n",
    "    mesh=mesh,\n",
    "    pde_type=\"mean_exit_time_moments\",\n",
    "    inference_type=\"drift_only\",\n",
    "    drift=((\"-x[0]\", \"-x[1]\")),\n",
    "    log_squared_diffusion=(\"std::log(1.0)\", \"std::log(1.0)\"),\n",
    ")"
   ]
  },
  {
   "cell_type": "code",
   "execution_count": 48,
   "metadata": {},
   "outputs": [],
   "source": [
    "problem_builder = problem.SPINProblemBuilder(problem_settings)\n",
    "spin_problem = problem_builder.build()"
   ]
  },
  {
   "cell_type": "code",
   "execution_count": 4,
   "metadata": {},
   "outputs": [],
   "source": [
    "prior_settings = prior.PriorSettings(\n",
    "    function_space = spin_problem.function_space_parameters,\n",
    "    mean=(\"-0.5*x[0]\", \"-0.5*x[1]\"),\n",
    "    variance=(\"0.1\", \"0.1\"),\n",
    "    correlation_length=(\"0.1\", \"0.1\"),\n",
    ")\n",
    "prior_builder = prior.BilaplacianVectorPriorBuilder(prior_settings)\n",
    "spin_prior = prior_builder.build()"
   ]
  },
  {
   "cell_type": "code",
   "execution_count": 49,
   "metadata": {},
   "outputs": [],
   "source": [
    "forward_vector = spin_problem.hippylib_variational_problem.generate_state()\n",
    "adjoint_vector = spin_problem.hippylib_variational_problem.generate_state()\n",
    "parameter_vector = spin_problem.hippylib_variational_problem.generate_parameter()\n",
    "parameter_vector.set_local(-np.linspace(-1, 1, parameter_vector.size()))\n",
    "state_list = [forward_vector, parameter_vector, adjoint_vector]\n",
    "spin_problem.hippylib_variational_problem.solveFwd(forward_vector, state_list)"
   ]
  },
  {
   "cell_type": "code",
   "execution_count": 59,
   "metadata": {},
   "outputs": [
    {
     "data": {
      "text/plain": [
       "[FunctionSpace(Mesh(VectorElement(FiniteElement('Lagrange', triangle, 1), dim=2), 153), FiniteElement('Lagrange', triangle, 1)),\n",
       " FunctionSpace(Mesh(VectorElement(FiniteElement('Lagrange', triangle, 1), dim=2), 153), FiniteElement('Lagrange', triangle, 1))]"
      ]
     },
     "execution_count": 59,
     "metadata": {},
     "output_type": "execute_result"
    }
   ],
   "source": [
    "solution_array = fex_converter.convert_to_numpy(forward_vector, num_components=2)\n",
    "spin_problem.function_space_variables.split()"
   ]
  },
  {
   "cell_type": "code",
   "execution_count": null,
   "metadata": {},
   "outputs": [],
   "source": [
    "precision_array = np.linspace(0, 1, 50)\n",
    "precision_vector = dl.Vector()\n",
    "precision_vector.init(precision_array.size)\n",
    "precision_vector.set_local(precision_array)\n",
    "precision_vector.apply(\"insert\")\n"
   ]
  },
  {
   "cell_type": "code",
   "execution_count": null,
   "metadata": {},
   "outputs": [],
   "source": [
    "observations = np.linspace(0, 1, 50)\n",
    "obs_vec = dl.Vector(dl.MPI.comm_world)\n",
    "obs_vec.size\n",
    "test_matrix = dl.PETScMatrix(dl.MPI.comm_world)\n",
    "test_matrix.set_diagonal(observations)"
   ]
  },
  {
   "cell_type": "code",
   "execution_count": null,
   "metadata": {},
   "outputs": [],
   "source": []
  },
  {
   "cell_type": "code",
   "execution_count": null,
   "metadata": {},
   "outputs": [],
   "source": [
    "from petsc4py import PETSc\n",
    "\n",
    "observations = np.linspace(0, 1, 50)\n",
    "petsc_matrix = PETSc.Mat().createAIJ(\n",
    "        size=(observations.size, observations.size), comm=dl.MPI.comm_world\n",
    "    )\n",
    "petsc_matrix.setUp()\n",
    "for i, value in enumerate(observations):\n",
    "    petsc_matrix.setValues(i, i, value)\n",
    "petsc_matrix.assemble()\n",
    "precision_matrix = dl.PETScMatrix(petsc_matrix, comm=dl.MPI.comm_world)"
   ]
  }
 ],
 "metadata": {
  "kernelspec": {
   "display_name": "all",
   "language": "python",
   "name": "python3"
  },
  "language_info": {
   "codemirror_mode": {
    "name": "ipython",
    "version": 3
   },
   "file_extension": ".py",
   "mimetype": "text/x-python",
   "name": "python",
   "nbconvert_exporter": "python",
   "pygments_lexer": "ipython3",
   "version": "3.12.8"
  }
 },
 "nbformat": 4,
 "nbformat_minor": 2
}
