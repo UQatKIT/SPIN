{
 "cells": [
  {
   "cell_type": "code",
   "execution_count": 1,
   "metadata": {},
   "outputs": [],
   "source": [
    "import dolfin as dl\n",
    "import hippylib as hl\n",
    "import numpy as np\n",
    "\n",
    "from spin.core import problem\n",
    "from spin.hippylib import hessian, laplace, misfit, optimization, prior"
   ]
  },
  {
   "cell_type": "code",
   "execution_count": 2,
   "metadata": {},
   "outputs": [],
   "source": [
    "mesh = dl.IntervalMesh(100, -1, 1)\n",
    "problem_settings = problem.SPINProblemSettings(\n",
    "    mesh=mesh,\n",
    "    pde_type=\"mean_exit_time\",\n",
    "    inference_type=\"drift_only\",\n",
    "    drift=(\"-x[0]\",),\n",
    "    log_squared_diffusion=(\"std::log(1.0)\",),\n",
    ")\n",
    "problem_builder = problem.SPINProblemBuilder(problem_settings)\n",
    "spin_problem = problem_builder.build()"
   ]
  },
  {
   "cell_type": "code",
   "execution_count": 3,
   "metadata": {},
   "outputs": [],
   "source": [
    "prior_settings = prior.PriorSettings(\n",
    "    function_space=spin_problem.function_space_parameters,\n",
    "    mean=(\"-0.5*x[0]\",),\n",
    "    variance=(\"0.1\",),\n",
    "    correlation_length=(\"0.1\",),\n",
    ")\n",
    "prior_builder = prior.BilaplacianVectorPriorBuilder(prior_settings)\n",
    "spin_prior = prior_builder.build()\n",
    "prior_variance = spin_prior.compute_variance_with_boundaries(\n",
    "    method=\"Randomized\", num_eigenvalues_randomized=50\n",
    ")"
   ]
  },
  {
   "cell_type": "code",
   "execution_count": 4,
   "metadata": {},
   "outputs": [],
   "source": [
    "observation_points = np.array((-0.8, -0.6, -0.4, -0.2, 0.0, 0.2, 0.4, 0.6, 0.8))\n",
    "exact_solution = np.array(\n",
    "    (\n",
    "        0.21648217,\n",
    "        0.42039515,\n",
    "        0.58953849,\n",
    "        0.70196354,\n",
    "        0.74143722,\n",
    "        0.70196354,\n",
    "        0.58953849,\n",
    "        0.42039515,\n",
    "        0.21648217,\n",
    "    )\n",
    ")\n",
    "perturbed_solution = exact_solution + np.random.normal(0, 0.01, exact_solution.shape)\n",
    "noise_variance = 0.01 * np.ones(exact_solution.shape)\n",
    "\n",
    "misfit_settings = misfit.MisfitSettings(\n",
    "    function_space=spin_problem.function_space_variables,\n",
    "    observation_points=observation_points,\n",
    "    observation_values=perturbed_solution,\n",
    "    noise_variance=noise_variance,\n",
    ")\n",
    "misfit_builder = misfit.MisfitBuilder(misfit_settings)\n",
    "spin_misfit = misfit_builder.build()"
   ]
  },
  {
   "cell_type": "code",
   "execution_count": 5,
   "metadata": {},
   "outputs": [],
   "source": [
    "inference_model = hl.Model(\n",
    "    spin_problem.hippylib_variational_problem, spin_prior.hippylib_prior, spin_misfit\n",
    ")"
   ]
  },
  {
   "cell_type": "code",
   "execution_count": 6,
   "metadata": {},
   "outputs": [],
   "source": [
    "optimization_settings = optimization.SolverSettings(\n",
    "    relative_tolerance=1e-3, absolute_tolerance=1e-3, verbose=False\n",
    ")\n",
    "initial_guess = spin_prior.mean_array\n",
    "newton_solver = optimization.NewtonCGSolver(optimization_settings, inference_model)\n",
    "solver_solution = newton_solver.solve(initial_guess)"
   ]
  },
  {
   "cell_type": "code",
   "execution_count": 7,
   "metadata": {},
   "outputs": [],
   "source": [
    "hessian_settings = hessian.LowRankHessianSettings(\n",
    "    num_eigenvalues=15,\n",
    "    num_oversampling=5,\n",
    "    inference_model=inference_model,\n",
    "    evaluation_point=[\n",
    "        solver_solution.forward_solution,\n",
    "        solver_solution.optimal_parameter,\n",
    "        solver_solution.adjoint_solution,\n",
    "    ],\n",
    ")\n",
    "eigenvalues, eigenvectors = hessian.compute_low_rank_hessian(hessian_settings)"
   ]
  },
  {
   "cell_type": "code",
   "execution_count": null,
   "metadata": {},
   "outputs": [],
   "source": [
    "laplace_approximation_settings = laplace.LowRankLaplaceApproximationSettings(\n",
    "    inference_model=inference_model,\n",
    "    mean=solver_solution.optimal_parameter,\n",
    "    low_rank_hessian_eigenvalues=eigenvalues,\n",
    "    low_rank_hessian_eigenvectors=eigenvectors,\n",
    ")\n",
    "laplace_approximation = laplace.LowRankLaplaceApproximation(laplace_approximation_settings)\n",
    "posterior_variance = laplace_approximation.compute_pointwise_variance(\n",
    "    method=\"Randomized\", num_eigenvalues_randomized=50\n",
    ")"
   ]
  }
 ],
 "metadata": {
  "kernelspec": {
   "display_name": "all",
   "language": "python",
   "name": "python3"
  },
  "language_info": {
   "codemirror_mode": {
    "name": "ipython",
    "version": 3
   },
   "file_extension": ".py",
   "mimetype": "text/x-python",
   "name": "python",
   "nbconvert_exporter": "python",
   "pygments_lexer": "ipython3",
   "version": "3.12.8"
  }
 },
 "nbformat": 4,
 "nbformat_minor": 2
}
