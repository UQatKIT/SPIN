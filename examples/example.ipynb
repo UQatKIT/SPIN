{
 "cells": [
  {
   "cell_type": "code",
   "execution_count": 1,
   "metadata": {},
   "outputs": [],
   "source": [
    "import dolfin as dl\n",
    "import matplotlib.pyplot as plt\n",
    "import numpy as np\n",
    "\n",
    "from spin.core import problem\n",
    "from spin.fenics import converter as fex_converter\n",
    "from spin.hippylib import misfit, prior"
   ]
  },
  {
   "cell_type": "code",
   "execution_count": 2,
   "metadata": {},
   "outputs": [],
   "source": [
    "mesh = dl.IntervalMesh(100, -1, 1)\n",
    "#mesh = dl.RectangleMesh(dl.Point(-1, -1), dl.Point(1, 1), 10, 10)\n",
    "problem_settings = problem.SPINProblemSettings(\n",
    "    mesh=mesh,\n",
    "    pde_type=\"mean_exit_time\",\n",
    "    inference_type=\"drift_only\",\n",
    "    drift=((\"-x[0]\",)),\n",
    "    log_squared_diffusion=(\"std::log(1.0)\",),\n",
    ")"
   ]
  },
  {
   "cell_type": "code",
   "execution_count": 3,
   "metadata": {},
   "outputs": [],
   "source": [
    "problem_builder = problem.SPINProblemBuilder(problem_settings)\n",
    "spin_problem = problem_builder.build()"
   ]
  },
  {
   "cell_type": "code",
   "execution_count": 4,
   "metadata": {},
   "outputs": [
    {
     "data": {
      "text/plain": [
       "(101,)"
      ]
     },
     "execution_count": 4,
     "metadata": {},
     "output_type": "execute_result"
    }
   ],
   "source": [
    "forward_vector = spin_problem.hippylib_variational_problem.generate_state()\n",
    "adjoint_vector = spin_problem.hippylib_variational_problem.generate_state()\n",
    "parameter_vector = spin_problem.hippylib_variational_problem.generate_parameter()\n",
    "parameter_vector.set_local(-np.linspace(-1, 1, parameter_vector.size()))\n",
    "state_list = [forward_vector, parameter_vector, adjoint_vector]\n",
    "spin_problem.hippylib_variational_problem.solveFwd(forward_vector, state_list)\n",
    "forward_array = fex_converter.convert_to_numpy(forward_vector, spin_problem.function_space_variables)\n",
    "forward_array.shape"
   ]
  },
  {
   "cell_type": "code",
   "execution_count": 7,
   "metadata": {},
   "outputs": [
    {
     "data": {
      "text/plain": [
       "(101,)"
      ]
     },
     "execution_count": 7,
     "metadata": {},
     "output_type": "execute_result"
    }
   ],
   "source": [
    "prior_settings = prior.PriorSettings(\n",
    "    function_space = spin_problem.function_space_parameters,\n",
    "    mean=(\"-0.5*x[0]\",),\n",
    "    variance=(\"0.1\",),\n",
    "    correlation_length=(\"0.1\",),\n",
    ")\n",
    "prior_builder = prior.BilaplacianVectorPriorBuilder(prior_settings)\n",
    "spin_prior = prior_builder.build()\n",
    "mean_array = spin_prior.mean_array\n",
    "mean_array.shape"
   ]
  },
  {
   "cell_type": "code",
   "execution_count": 6,
   "metadata": {},
   "outputs": [
    {
     "ename": "BeartypeCallHintParamViolation",
     "evalue": "Method spin.hippylib.misfit.MisfitSettings.__init__() parameter observation_values=\"None\" violates type hint numpy.ndarray[typing.Any, numpy.dtype[numpy.floating]] | collections.abc.Iterable[numpy.ndarray[typing.Any, numpy.dtype[numpy.floating]]] | collections.abc.Iterable[collections.abc.Iterable[numpy.ndarray[typing.Any, numpy.dtype[numpy.floating]]]], as <class \"builtins.NoneType\"> \"None\":\n* Not <protocol ABC \"collections.abc.Iterable\">.\n* Not instance of <class \"numpy.ndarray\">.",
     "output_type": "error",
     "traceback": [
      "\u001b[0;31m---------------------------------------------------------------------------\u001b[0m",
      "\u001b[0;31mBeartypeCallHintParamViolation\u001b[0m            Traceback (most recent call last)",
      "Cell \u001b[0;32mIn[6], line 1\u001b[0m\n\u001b[0;32m----> 1\u001b[0m misfit_settings \u001b[38;5;241m=\u001b[39m \u001b[43mmisfit\u001b[49m\u001b[38;5;241;43m.\u001b[39;49m\u001b[43mMisfitSettings\u001b[49m\u001b[43m(\u001b[49m\n\u001b[1;32m      2\u001b[0m \u001b[43m    \u001b[49m\u001b[43mfunction_space\u001b[49m\u001b[43m \u001b[49m\u001b[38;5;241;43m=\u001b[39;49m\u001b[43m \u001b[49m\u001b[43mspin_problem\u001b[49m\u001b[38;5;241;43m.\u001b[39;49m\u001b[43mfunction_space_variables\u001b[49m\u001b[43m,\u001b[49m\n\u001b[1;32m      3\u001b[0m \u001b[43m    \u001b[49m\u001b[43mobservation_points\u001b[49m\u001b[38;5;241;43m=\u001b[39;49m\u001b[43mnp\u001b[49m\u001b[38;5;241;43m.\u001b[39;49m\u001b[43mlinspace\u001b[49m\u001b[43m(\u001b[49m\u001b[38;5;241;43m-\u001b[39;49m\u001b[38;5;241;43m0.9\u001b[39;49m\u001b[43m,\u001b[49m\u001b[43m \u001b[49m\u001b[38;5;241;43m0.9\u001b[39;49m\u001b[43m,\u001b[49m\u001b[43m \u001b[49m\u001b[38;5;241;43m10\u001b[39;49m\u001b[43m)\u001b[49m\u001b[43m,\u001b[49m\n\u001b[1;32m      4\u001b[0m \u001b[43m    \u001b[49m\u001b[43mobservation_values\u001b[49m\u001b[38;5;241;43m=\u001b[39;49m\u001b[38;5;28;43;01mNone\u001b[39;49;00m\n\u001b[1;32m      5\u001b[0m \u001b[43m)\u001b[49m\n",
      "File \u001b[0;32m<@beartype(spin.hippylib.misfit.MisfitSettings.__init__) at 0x7fc8d3b23f60>:107\u001b[0m, in \u001b[0;36m__init__\u001b[0;34m(__beartype_object_94245800904688, __beartype_get_violation, __beartype_conf, __beartype_object_140500619191840, __beartype_object_140500776188000, __beartype_object_94245765602576, __beartype_object_140500776200128, __beartype_object_94244787514400, __beartype_check_meta, __beartype_func, *args, **kwargs)\u001b[0m\n",
      "\u001b[0;31mBeartypeCallHintParamViolation\u001b[0m: Method spin.hippylib.misfit.MisfitSettings.__init__() parameter observation_values=\"None\" violates type hint numpy.ndarray[typing.Any, numpy.dtype[numpy.floating]] | collections.abc.Iterable[numpy.ndarray[typing.Any, numpy.dtype[numpy.floating]]] | collections.abc.Iterable[collections.abc.Iterable[numpy.ndarray[typing.Any, numpy.dtype[numpy.floating]]]], as <class \"builtins.NoneType\"> \"None\":\n* Not <protocol ABC \"collections.abc.Iterable\">.\n* Not instance of <class \"numpy.ndarray\">."
     ]
    }
   ],
   "source": [
    "misfit_settings = misfit.MisfitSettings(\n",
    "    function_space = spin_problem.function_space_variables,\n",
    "    observation_points=np.linspace(-0.9, 0.9, 10),\n",
    "    observation_values=None\n",
    ")"
   ]
  }
 ],
 "metadata": {
  "kernelspec": {
   "display_name": "all",
   "language": "python",
   "name": "python3"
  },
  "language_info": {
   "codemirror_mode": {
    "name": "ipython",
    "version": 3
   },
   "file_extension": ".py",
   "mimetype": "text/x-python",
   "name": "python",
   "nbconvert_exporter": "python",
   "pygments_lexer": "ipython3",
   "version": "3.12.8"
  }
 },
 "nbformat": 4,
 "nbformat_minor": 2
}
