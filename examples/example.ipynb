{
 "cells": [
  {
   "cell_type": "code",
   "execution_count": 1,
   "metadata": {},
   "outputs": [],
   "source": [
    "import dolfin as dl\n",
    "import matplotlib.pyplot as plt\n",
    "import numpy as np\n",
    "\n",
    "from spin.core import problem"
   ]
  },
  {
   "cell_type": "code",
   "execution_count": 2,
   "metadata": {},
   "outputs": [],
   "source": [
    "# mesh = dl.IntervalMesh(100, -1, 1)\n",
    "mesh = dl.RectangleMesh(dl.Point(-1, -1), dl.Point(1, 1), 10, 10)\n",
    "settings = problem.SPINProblemSettings(\n",
    "    mesh=mesh,\n",
    "    pde_type=\"mean_exit_time\",\n",
    "    inference_type=\"drift_and_diffusion\",\n",
    "    drift=((\"-x[0]\", \"-x[1]\")),\n",
    "    log_squared_diffusion=(\"std::log(1.0)\", \"std::log(1.0)\"),\n",
    "    element_degree_variables=2,\n",
    ")"
   ]
  },
  {
   "cell_type": "code",
   "execution_count": 3,
   "metadata": {},
   "outputs": [],
   "source": [
    "builder = problem.SPINProblemBuilder(settings)\n",
    "variational_problem = builder.build()"
   ]
  },
  {
   "cell_type": "code",
   "execution_count": 4,
   "metadata": {},
   "outputs": [
    {
     "name": "stdout",
     "output_type": "stream",
     "text": [
      "<class 'ufl.tensors.ListTensor'>\n",
      "<class 'ufl.tensors.ListTensor'>\n"
     ]
    },
    {
     "ename": "BeartypeCallHintParamViolation",
     "evalue": "Function spin.core.weakforms.weak_form_mean_exit_time() parameter drift=\"ListTensor(Indexed(Coefficient(FunctionSpace(Mesh(VectorElement(FiniteElement('Lagran...),))))\" violates type hint <class 'ufl.coefficient.Coefficient'>, as <class \"ufl.tensors.ListTensor\"> \"ListTensor(Indexed(Coefficient(FunctionSpace(Mesh(VectorElement(FiniteElement('Lagran...),))))\" not instance of <class \"ufl.coefficient.Coefficient\">.",
     "output_type": "error",
     "traceback": [
      "\u001b[0;31m---------------------------------------------------------------------------\u001b[0m",
      "\u001b[0;31mBeartypeCallHintParamViolation\u001b[0m            Traceback (most recent call last)",
      "Cell \u001b[0;32mIn[4], line 6\u001b[0m\n\u001b[1;32m      4\u001b[0m parameter_vector\u001b[38;5;241m.\u001b[39mset_local(\u001b[38;5;241m-\u001b[39mnp\u001b[38;5;241m.\u001b[39mlinspace(\u001b[38;5;241m-\u001b[39m\u001b[38;5;241m1\u001b[39m, \u001b[38;5;241m1\u001b[39m, parameter_vector\u001b[38;5;241m.\u001b[39msize()))\n\u001b[1;32m      5\u001b[0m state_list \u001b[38;5;241m=\u001b[39m [forward_vector, parameter_vector, adjoint_vector]\n\u001b[0;32m----> 6\u001b[0m \u001b[43mvariational_problem\u001b[49m\u001b[38;5;241;43m.\u001b[39;49m\u001b[43msolveFwd\u001b[49m\u001b[43m(\u001b[49m\u001b[43mforward_vector\u001b[49m\u001b[43m,\u001b[49m\u001b[43m \u001b[49m\u001b[43mstate_list\u001b[49m\u001b[43m)\u001b[49m\n",
      "File \u001b[0;32m~/4-Code/spin/.pixi/envs/all/lib/python3.12/site-packages/hippylib/modeling/PDEProblem.py:161\u001b[0m, in \u001b[0;36mPDEVariationalProblem.solveFwd\u001b[0;34m(self, state, x)\u001b[0m\n\u001b[1;32m    159\u001b[0m m \u001b[38;5;241m=\u001b[39m vector2Function(x[PARAMETER], \u001b[38;5;28mself\u001b[39m\u001b[38;5;241m.\u001b[39mVh[PARAMETER])\n\u001b[1;32m    160\u001b[0m p \u001b[38;5;241m=\u001b[39m dl\u001b[38;5;241m.\u001b[39mTestFunction(\u001b[38;5;28mself\u001b[39m\u001b[38;5;241m.\u001b[39mVh[ADJOINT])\n\u001b[0;32m--> 161\u001b[0m res_form \u001b[38;5;241m=\u001b[39m \u001b[38;5;28;43mself\u001b[39;49m\u001b[38;5;241;43m.\u001b[39;49m\u001b[43mvarf_handler\u001b[49m\u001b[43m(\u001b[49m\u001b[43mu\u001b[49m\u001b[43m,\u001b[49m\u001b[43m \u001b[49m\u001b[43mm\u001b[49m\u001b[43m,\u001b[49m\u001b[43m \u001b[49m\u001b[43mp\u001b[49m\u001b[43m)\u001b[49m\n\u001b[1;32m    162\u001b[0m A_form \u001b[38;5;241m=\u001b[39m ufl\u001b[38;5;241m.\u001b[39mlhs(res_form)\n\u001b[1;32m    163\u001b[0m b_form \u001b[38;5;241m=\u001b[39m ufl\u001b[38;5;241m.\u001b[39mrhs(res_form)\n",
      "File \u001b[0;32m~/4-Code/spin/src/spin/core/problem.py:214\u001b[0m, in \u001b[0;36mSPINProblemBuilder._create_weak_form_wrapper.<locals>.weak_form_wrapper\u001b[0;34m(forward_variable, parameter_variable, adjoint_variable)\u001b[0m\n\u001b[1;32m    212\u001b[0m \u001b[38;5;28mprint\u001b[39m(\u001b[38;5;28mtype\u001b[39m(drift_variable))\n\u001b[1;32m    213\u001b[0m \u001b[38;5;28mprint\u001b[39m(\u001b[38;5;28mtype\u001b[39m(log_squared_diffusion_variable))\n\u001b[0;32m--> 214\u001b[0m \u001b[38;5;28;01mreturn\u001b[39;00m \u001b[38;5;28;43mself\u001b[39;49m\u001b[38;5;241;43m.\u001b[39;49m\u001b[43m_weak_form\u001b[49m\u001b[43m(\u001b[49m\n\u001b[1;32m    215\u001b[0m \u001b[43m    \u001b[49m\u001b[43mforward_variable\u001b[49m\u001b[43m,\u001b[49m\n\u001b[1;32m    216\u001b[0m \u001b[43m    \u001b[49m\u001b[43madjoint_variable\u001b[49m\u001b[43m,\u001b[49m\n\u001b[1;32m    217\u001b[0m \u001b[43m    \u001b[49m\u001b[43mdrift_variable\u001b[49m\u001b[43m,\u001b[49m\n\u001b[1;32m    218\u001b[0m \u001b[43m    \u001b[49m\u001b[38;5;28;43mself\u001b[39;49m\u001b[38;5;241;43m.\u001b[39;49m\u001b[43m_compute_matrix_exponential\u001b[49m\u001b[43m(\u001b[49m\u001b[43mlog_squared_diffusion_variable\u001b[49m\u001b[43m)\u001b[49m\u001b[43m,\u001b[49m\n\u001b[1;32m    219\u001b[0m \u001b[43m\u001b[49m\u001b[43m)\u001b[49m\n",
      "File \u001b[0;32m<@beartype(spin.core.weakforms.weak_form_mean_exit_time) at 0x7fe7c01458a0>:68\u001b[0m, in \u001b[0;36mweak_form_mean_exit_time\u001b[0;34m(__beartype_object_94688592884432, __beartype_get_violation, __beartype_conf, __beartype_object_94688592887968, __beartype_object_94688592804048, __beartype_object_94688593046576, __beartype_check_meta, __beartype_func, *args, **kwargs)\u001b[0m\n",
      "\u001b[0;31mBeartypeCallHintParamViolation\u001b[0m: Function spin.core.weakforms.weak_form_mean_exit_time() parameter drift=\"ListTensor(Indexed(Coefficient(FunctionSpace(Mesh(VectorElement(FiniteElement('Lagran...),))))\" violates type hint <class 'ufl.coefficient.Coefficient'>, as <class \"ufl.tensors.ListTensor\"> \"ListTensor(Indexed(Coefficient(FunctionSpace(Mesh(VectorElement(FiniteElement('Lagran...),))))\" not instance of <class \"ufl.coefficient.Coefficient\">."
     ]
    }
   ],
   "source": [
    "forward_vector = variational_problem.generate_state()\n",
    "adjoint_vector = variational_problem.generate_state()\n",
    "parameter_vector = variational_problem.generate_parameter()\n",
    "parameter_vector.set_local(-np.linspace(-1, 1, parameter_vector.size()))\n",
    "state_list = [forward_vector, parameter_vector, adjoint_vector]\n",
    "variational_problem.solveFwd(forward_vector, state_list)"
   ]
  },
  {
   "cell_type": "code",
   "execution_count": 5,
   "metadata": {},
   "outputs": [],
   "source": [
    "from collections.abc import Iterable\n",
    "\n",
    "import dolfin as dl\n",
    "from hippylib import ExpressionModule\n",
    "import ufl\n",
    "\n",
    "def build_bilaplacian_prior(\n",
    "    function_space: dl.FunctionSpace,\n",
    "    variance: str | Iterable[str] | Iterable[Iterable[str]],\n",
    "    correlation_length: str | Iterable[str] | Iterable[Iterable[str]],\n",
    "):\n",
    "    pass"
   ]
  }
 ],
 "metadata": {
  "kernelspec": {
   "display_name": "all",
   "language": "python",
   "name": "python3"
  },
  "language_info": {
   "codemirror_mode": {
    "name": "ipython",
    "version": 3
   },
   "file_extension": ".py",
   "mimetype": "text/x-python",
   "name": "python",
   "nbconvert_exporter": "python",
   "pygments_lexer": "ipython3",
   "version": "3.12.8"
  }
 },
 "nbformat": 4,
 "nbformat_minor": 2
}
