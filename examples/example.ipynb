{
 "cells": [
  {
   "cell_type": "code",
   "execution_count": 1,
   "metadata": {},
   "outputs": [],
   "source": [
    "import dolfin as dl\n",
    "import hippylib as hl\n",
    "import numpy as np\n",
    "\n",
    "from spin.core import problem\n",
    "from spin.hippylib import hessian, laplace, misfit, optimization, prior"
   ]
  },
  {
   "cell_type": "code",
   "execution_count": 2,
   "metadata": {},
   "outputs": [],
   "source": [
    "mesh = dl.IntervalMesh(100, -1, 1)\n",
    "problem_settings = problem.SPINProblemSettings(\n",
    "    mesh=mesh,\n",
    "    pde_type=\"mean_exit_time\",\n",
    "    inference_type=\"drift_only\",\n",
    "    drift=(\"-x[0]\",),\n",
    "    log_squared_diffusion=(\"std::log(1.0)\",),\n",
    ")\n",
    "problem_builder = problem.SPINProblemBuilder(problem_settings)\n",
    "spin_problem = problem_builder.build()"
   ]
  },
  {
   "cell_type": "code",
   "execution_count": 3,
   "metadata": {},
   "outputs": [],
   "source": [
    "prior_settings = prior.PriorSettings(\n",
    "    function_space=spin_problem.function_space_parameters,\n",
    "    mean=(\"-0.5*x[0]\",),\n",
    "    variance=(\"0.1\",),\n",
    "    correlation_length=(\"0.1\",),\n",
    ")\n",
    "prior_builder = prior.BilaplacianVectorPriorBuilder(prior_settings)\n",
    "spin_prior = prior_builder.build()\n",
    "prior_variance = spin_prior.compute_variance_with_boundaries(\n",
    "    method=\"Randomized\", num_eigenvalues_randomized=50\n",
    ")"
   ]
  },
  {
   "cell_type": "code",
   "execution_count": 4,
   "metadata": {},
   "outputs": [],
   "source": [
    "observation_points = np.array((-0.8, -0.6, -0.4, -0.2, 0.0, 0.2, 0.4, 0.6, 0.8))\n",
    "exact_solution = np.array(\n",
    "    (\n",
    "        0.21648217,\n",
    "        0.42039515,\n",
    "        0.58953849,\n",
    "        0.70196354,\n",
    "        0.74143722,\n",
    "        0.70196354,\n",
    "        0.58953849,\n",
    "        0.42039515,\n",
    "        0.21648217,\n",
    "    )\n",
    ")\n",
    "perturbed_solution = exact_solution + np.random.normal(0, 0.01, exact_solution.shape)\n",
    "noise_variance = 0.01 * np.ones(exact_solution.shape)\n",
    "\n",
    "misfit_settings = misfit.MisfitSettings(\n",
    "    function_space=spin_problem.function_space_variables,\n",
    "    observation_points=observation_points,\n",
    "    observation_values=perturbed_solution,\n",
    "    noise_variance=noise_variance,\n",
    ")\n",
    "misfit_builder = misfit.MisfitBuilder(misfit_settings)\n",
    "spin_misfit = misfit_builder.build()"
   ]
  },
  {
   "cell_type": "code",
   "execution_count": 5,
   "metadata": {},
   "outputs": [],
   "source": [
    "inference_model = hl.Model(\n",
    "    spin_problem.hippylib_variational_problem, spin_prior.hippylib_prior, spin_misfit\n",
    ")"
   ]
  },
  {
   "cell_type": "code",
   "execution_count": 6,
   "metadata": {},
   "outputs": [],
   "source": [
    "optimization_settings = optimization.SolverSettings(\n",
    "    relative_tolerance=1e-3, absolute_tolerance=1e-3, verbose=False\n",
    ")\n",
    "initial_guess = spin_prior.mean_array\n",
    "newton_solver = optimization.NewtonCGSolver(optimization_settings, inference_model)\n",
    "solver_solution = newton_solver.solve(initial_guess)"
   ]
  },
  {
   "cell_type": "code",
   "execution_count": 7,
   "metadata": {},
   "outputs": [],
   "source": [
    "hessian_settings = hessian.LowRankHessianSettings(\n",
    "    num_eigenvalues=15,\n",
    "    num_oversampling=5,\n",
    "    inference_model=inference_model,\n",
    "    evaluation_point=[\n",
    "        solver_solution.forward_solution,\n",
    "        solver_solution.optimal_parameter,\n",
    "        solver_solution.adjoint_solution,\n",
    "    ],\n",
    ")\n",
    "eigenvalues, eigenvectors = hessian.compute_low_rank_hessian(hessian_settings)"
   ]
  },
  {
   "cell_type": "code",
   "execution_count": 8,
   "metadata": {},
   "outputs": [
    {
     "ename": "BeartypeCallHintParamViolation",
     "evalue": "Function spin.fenics.converter.convert_to_numpy() parameter vector=(<dolfin.cpp.la.Vector object at 0x7f279f2694f0>, <dolfin.cpp.la.Vector object at 0x7f279f2...>) violates type hint dolfin.cpp.la.Vector | dolfin.cpp.la.PETScVector, as tuple (<dolfin.cpp.la.Vector object at 0x7f279f2694f0>, <dolfin.cpp.la.Vector object at 0x7f279f2...>) not <class \"dolfin.cpp.la.Vector\"> or <class \"dolfin.cpp.la.PETScVector\">.",
     "output_type": "error",
     "traceback": [
      "\u001b[0;31m---------------------------------------------------------------------------\u001b[0m",
      "\u001b[0;31mBeartypeCallHintParamViolation\u001b[0m            Traceback (most recent call last)",
      "Cell \u001b[0;32mIn[8], line 8\u001b[0m\n\u001b[1;32m      1\u001b[0m laplace_approximation_settings \u001b[38;5;241m=\u001b[39m laplace\u001b[38;5;241m.\u001b[39mLowRankLaplaceApproximationSettings(\n\u001b[1;32m      2\u001b[0m     inference_model\u001b[38;5;241m=\u001b[39minference_model,\n\u001b[1;32m      3\u001b[0m     mean\u001b[38;5;241m=\u001b[39msolver_solution\u001b[38;5;241m.\u001b[39moptimal_parameter,\n\u001b[1;32m      4\u001b[0m     low_rank_hessian_eigenvalues\u001b[38;5;241m=\u001b[39meigenvalues,\n\u001b[1;32m      5\u001b[0m     low_rank_hessian_eigenvectors\u001b[38;5;241m=\u001b[39meigenvectors,\n\u001b[1;32m      6\u001b[0m )\n\u001b[1;32m      7\u001b[0m laplace_approximation \u001b[38;5;241m=\u001b[39m laplace\u001b[38;5;241m.\u001b[39mLowRankLaplaceApproximation(laplace_approximation_settings)\n\u001b[0;32m----> 8\u001b[0m posterior_variance \u001b[38;5;241m=\u001b[39m \u001b[43mlaplace_approximation\u001b[49m\u001b[38;5;241;43m.\u001b[39;49m\u001b[43mcompute_pointwise_variance\u001b[49m\u001b[43m(\u001b[49m\n\u001b[1;32m      9\u001b[0m \u001b[43m    \u001b[49m\u001b[43mmethod\u001b[49m\u001b[38;5;241;43m=\u001b[39;49m\u001b[38;5;124;43m\"\u001b[39;49m\u001b[38;5;124;43mRandomized\u001b[39;49m\u001b[38;5;124;43m\"\u001b[39;49m\u001b[43m,\u001b[49m\u001b[43m \u001b[49m\u001b[43mnum_eigenvalues_randomized\u001b[49m\u001b[38;5;241;43m=\u001b[39;49m\u001b[38;5;241;43m50\u001b[39;49m\n\u001b[1;32m     10\u001b[0m \u001b[43m)\u001b[49m\n",
      "File \u001b[0;32m<@beartype(spin.hippylib.laplace.LowRankLaplaceApproximation.compute_pointwise_variance) at 0x7f279f456660>:97\u001b[0m, in \u001b[0;36mcompute_pointwise_variance\u001b[0;34m(__beartype_object_139808152576192, __beartype_get_violation, __beartype_conf, __beartype_object_94852756802592, __beartype_object_139808152576832, __beartype_object_139808152577472, __beartype_object_139808159633216, __beartype_object_139808414038112, __beartype_object_139808414050240, __beartype_check_meta, __beartype_func, *args, **kwargs)\u001b[0m\n",
      "File \u001b[0;32m~/4-Code/spin/src/spin/hippylib/laplace.py:64\u001b[0m, in \u001b[0;36mLowRankLaplaceApproximation.compute_pointwise_variance\u001b[0;34m(self, method, num_expansion_values_estimator, num_eigenvalues_randomized)\u001b[0m\n\u001b[1;32m     58\u001b[0m         \u001b[38;5;28;01mraise\u001b[39;00m \u001b[38;5;167;01mValueError\u001b[39;00m(\n\u001b[1;32m     59\u001b[0m             \u001b[38;5;124m\"\u001b[39m\u001b[38;5;124mnum_eigenvalues_randomized must be provided for \u001b[39m\u001b[38;5;124m'\u001b[39m\u001b[38;5;124mRandomized\u001b[39m\u001b[38;5;124m'\u001b[39m\u001b[38;5;124m method.\u001b[39m\u001b[38;5;124m\"\u001b[39m\n\u001b[1;32m     60\u001b[0m         )\n\u001b[1;32m     61\u001b[0m     variance \u001b[38;5;241m=\u001b[39m \u001b[38;5;28mself\u001b[39m\u001b[38;5;241m.\u001b[39m_laplace_approximation\u001b[38;5;241m.\u001b[39mpointwise_variance(\n\u001b[1;32m     62\u001b[0m         method\u001b[38;5;241m=\u001b[39mmethod, r\u001b[38;5;241m=\u001b[39mnum_eigenvalues_randomized\n\u001b[1;32m     63\u001b[0m     )\n\u001b[0;32m---> 64\u001b[0m pointwise_variance \u001b[38;5;241m=\u001b[39m \u001b[43mfex_converter\u001b[49m\u001b[38;5;241;43m.\u001b[39;49m\u001b[43mconvert_to_numpy\u001b[49m\u001b[43m(\u001b[49m\u001b[43mvariance\u001b[49m\u001b[43m,\u001b[49m\u001b[43m \u001b[49m\u001b[38;5;28;43mself\u001b[39;49m\u001b[38;5;241;43m.\u001b[39;49m\u001b[43m_function_space\u001b[49m\u001b[43m)\u001b[49m\n\u001b[1;32m     65\u001b[0m \u001b[38;5;28;01mreturn\u001b[39;00m pointwise_variance\n",
      "File \u001b[0;32m<@beartype(spin.fenics.converter.convert_to_numpy) at 0x7f279f3dcea0>:36\u001b[0m, in \u001b[0;36mconvert_to_numpy\u001b[0;34m(__beartype_object_139808159410944, __beartype_get_violation, __beartype_conf, __beartype_object_94853577310720, __beartype_object_139808159633216, __beartype_object_139808414038112, __beartype_object_139808414050240, __beartype_check_meta, __beartype_func, *args, **kwargs)\u001b[0m\n",
      "\u001b[0;31mBeartypeCallHintParamViolation\u001b[0m: Function spin.fenics.converter.convert_to_numpy() parameter vector=(<dolfin.cpp.la.Vector object at 0x7f279f2694f0>, <dolfin.cpp.la.Vector object at 0x7f279f2...>) violates type hint dolfin.cpp.la.Vector | dolfin.cpp.la.PETScVector, as tuple (<dolfin.cpp.la.Vector object at 0x7f279f2694f0>, <dolfin.cpp.la.Vector object at 0x7f279f2...>) not <class \"dolfin.cpp.la.Vector\"> or <class \"dolfin.cpp.la.PETScVector\">."
     ]
    }
   ],
   "source": [
    "laplace_approximation_settings = laplace.LowRankLaplaceApproximationSettings(\n",
    "    inference_model=inference_model,\n",
    "    mean=solver_solution.optimal_parameter,\n",
    "    low_rank_hessian_eigenvalues=eigenvalues,\n",
    "    low_rank_hessian_eigenvectors=eigenvectors,\n",
    ")\n",
    "laplace_approximation = laplace.LowRankLaplaceApproximation(laplace_approximation_settings)\n",
    "posterior_variance = laplace_approximation.compute_pointwise_variance(\n",
    "    method=\"Randomized\", num_eigenvalues_randomized=50\n",
    ")"
   ]
  }
 ],
 "metadata": {
  "kernelspec": {
   "display_name": "all",
   "language": "python",
   "name": "python3"
  },
  "language_info": {
   "codemirror_mode": {
    "name": "ipython",
    "version": 3
   },
   "file_extension": ".py",
   "mimetype": "text/x-python",
   "name": "python",
   "nbconvert_exporter": "python",
   "pygments_lexer": "ipython3",
   "version": "3.12.8"
  }
 },
 "nbformat": 4,
 "nbformat_minor": 2
}
