{
 "cells": [
  {
   "cell_type": "code",
   "execution_count": 1,
   "metadata": {},
   "outputs": [],
   "source": [
    "import dolfin as dl\n",
    "import hippylib as hl\n",
    "import matplotlib.pyplot as plt\n",
    "import numpy as np\n",
    "\n",
    "from spin.core import problem\n",
    "from spin.fenics import converter as fex_converter\n",
    "from spin.hippylib import hessian as hlx_hessian\n",
    "from spin.hippylib import misfit as hlx_misfit\n",
    "from spin.hippylib import optimization as hlx_optimization\n",
    "from spin.hippylib import prior as hlx_prior"
   ]
  },
  {
   "cell_type": "code",
   "execution_count": 2,
   "metadata": {},
   "outputs": [],
   "source": [
    "mesh = dl.IntervalMesh(10, -1, 1)\n",
    "problem_settings = problem.SPINProblemSettings(\n",
    "    mesh=mesh,\n",
    "    pde_type=\"mean_exit_time\",\n",
    "    inference_type=\"drift_only\",\n",
    "    drift=((\"-x[0]\",)),\n",
    "    log_squared_diffusion=(\"std::log(1.0)\",),\n",
    ")\n",
    "problem_builder = problem.SPINProblemBuilder(problem_settings)\n",
    "spin_problem = problem_builder.build()"
   ]
  },
  {
   "cell_type": "code",
   "execution_count": 3,
   "metadata": {},
   "outputs": [],
   "source": [
    "prior_settings = hlx_prior.PriorSettings(\n",
    "    function_space=spin_problem.function_space_parameters,\n",
    "    mean=(\"-0.5*x[0]\",),\n",
    "    variance=(\"0.1\",),\n",
    "    correlation_length=(\"0.1\",),\n",
    ")\n",
    "prior_builder = hlx_prior.BilaplacianVectorPriorBuilder(prior_settings)\n",
    "spin_prior = prior_builder.build()"
   ]
  },
  {
   "cell_type": "code",
   "execution_count": 4,
   "metadata": {},
   "outputs": [],
   "source": [
    "observation_points = np.array((-0.8, -0.6, -0.4, -0.2, 0.0, 0.2, 0.4, 0.6, 0.8))\n",
    "exact_solution = np.array(\n",
    "    (\n",
    "        0.21648217,\n",
    "        0.42039515,\n",
    "        0.58953849,\n",
    "        0.70196354,\n",
    "        0.74143722,\n",
    "        0.70196354,\n",
    "        0.58953849,\n",
    "        0.42039515,\n",
    "        0.21648217,\n",
    "    )\n",
    ")\n",
    "perturbed_solution = exact_solution + np.random.normal(0, 0.01, exact_solution.shape)\n",
    "noise_variance = 0.01 * np.ones(exact_solution.shape)\n",
    "\n",
    "misfit_settings = hlx_misfit.MisfitSettings(\n",
    "    function_space=spin_problem.function_space_variables,\n",
    "    observation_points=observation_points,\n",
    "    observation_values=perturbed_solution,\n",
    "    noise_variance=noise_variance,\n",
    ")\n",
    "misfit_builder = hlx_misfit.MisfitBuilder(misfit_settings)\n",
    "spin_misfit = misfit_builder.build()"
   ]
  },
  {
   "cell_type": "code",
   "execution_count": 5,
   "metadata": {},
   "outputs": [],
   "source": [
    "inference_model = hl.Model(\n",
    "    spin_problem.hippylib_variational_problem, spin_prior.hippylib_prior, spin_misfit\n",
    ")"
   ]
  },
  {
   "cell_type": "code",
   "execution_count": null,
   "metadata": {},
   "outputs": [],
   "source": [
    "optimization_settings = hlx_optimization.SolverSettings(\n",
    "    relative_tolerance=1e-3, absolute_tolerance=1e-3, verbose=True\n",
    ")\n",
    "initial_guess = spin_prior.mean_array\n",
    "newton_solver = hlx_optimization.NewtonCGSolver(optimization_settings, inference_model)\n",
    "solver_solution = newton_solver.solve(initial_guess)"
   ]
  },
  {
   "cell_type": "code",
   "execution_count": null,
   "metadata": {},
   "outputs": [],
   "source": []
  }
 ],
 "metadata": {
  "kernelspec": {
   "display_name": "all",
   "language": "python",
   "name": "python3"
  },
  "language_info": {
   "codemirror_mode": {
    "name": "ipython",
    "version": 3
   },
   "file_extension": ".py",
   "mimetype": "text/x-python",
   "name": "python",
   "nbconvert_exporter": "python",
   "pygments_lexer": "ipython3",
   "version": "3.12.8"
  }
 },
 "nbformat": 4,
 "nbformat_minor": 2
}
