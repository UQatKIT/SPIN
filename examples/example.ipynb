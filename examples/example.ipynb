{
 "cells": [
  {
   "cell_type": "code",
   "execution_count": 1,
   "metadata": {},
   "outputs": [],
   "source": [
    "import dolfin as dl\n",
    "import hippylib as hl\n",
    "import matplotlib.pyplot as plt\n",
    "import numpy as np\n",
    "\n",
    "from spin.core import problem\n",
    "from spin.fenics import converter as fex_converter\n",
    "from spin.hippylib import misfit as hlx_misfit\n",
    "from spin.hippylib import optimization as hlx_optimization\n",
    "from spin.hippylib import prior as hlx_prior"
   ]
  },
  {
   "cell_type": "code",
   "execution_count": 2,
   "metadata": {},
   "outputs": [],
   "source": [
    "mesh = dl.IntervalMesh(100, -1, 1)\n",
    "problem_settings = problem.SPINProblemSettings(\n",
    "    mesh=mesh,\n",
    "    pde_type=\"mean_exit_time\",\n",
    "    inference_type=\"drift_only\",\n",
    "    drift=((\"-x[0]\",)),\n",
    "    log_squared_diffusion=(\"std::log(1.0)\",),\n",
    ")\n",
    "problem_builder = problem.SPINProblemBuilder(problem_settings)\n",
    "spin_problem = problem_builder.build()"
   ]
  },
  {
   "cell_type": "code",
   "execution_count": 3,
   "metadata": {},
   "outputs": [],
   "source": [
    "forward_vector = spin_problem.hippylib_variational_problem.generate_state()\n",
    "adjoint_vector = spin_problem.hippylib_variational_problem.generate_state()\n",
    "parameter_vector = spin_problem.hippylib_variational_problem.generate_parameter()\n",
    "parameter_vector.set_local(-np.linspace(-1, 1, parameter_vector.size()))\n",
    "state_list = [forward_vector, parameter_vector, adjoint_vector]\n",
    "spin_problem.hippylib_variational_problem.solveFwd(forward_vector, state_list)\n",
    "forward_array = fex_converter.convert_to_numpy(\n",
    "    forward_vector, spin_problem.function_space_variables\n",
    ")"
   ]
  },
  {
   "cell_type": "code",
   "execution_count": 4,
   "metadata": {},
   "outputs": [],
   "source": [
    "prior_settings = hlx_prior.PriorSettings(\n",
    "    function_space=spin_problem.function_space_parameters,\n",
    "    mean=(\"-0.5*x[0]\",),\n",
    "    variance=(\"0.1\",),\n",
    "    correlation_length=(\"0.1\",),\n",
    ")\n",
    "prior_builder = hlx_prior.BilaplacianVectorPriorBuilder(prior_settings)\n",
    "spin_prior = prior_builder.build()"
   ]
  },
  {
   "cell_type": "code",
   "execution_count": 5,
   "metadata": {},
   "outputs": [],
   "source": [
    "misfit_settings = hlx_misfit.MisfitSettings(\n",
    "    function_space=spin_problem.function_space_variables,\n",
    "    observation_points=spin_problem.coordinates_variables,\n",
    "    observation_values=forward_array + np.random.normal(0, 0.01, forward_array.shape),\n",
    "    noise_variance=0.01 * np.ones(forward_array.shape),\n",
    ")\n",
    "misfit_builder = hlx_misfit.MisfitBuilder(misfit_settings)\n",
    "spin_misfit = misfit_builder.build()"
   ]
  },
  {
   "cell_type": "code",
   "execution_count": 6,
   "metadata": {},
   "outputs": [],
   "source": [
    "inference_model = hl.Model(\n",
    "    spin_problem.hippylib_variational_problem, spin_prior.hippylib_prior, spin_misfit\n",
    ")"
   ]
  },
  {
   "cell_type": "code",
   "execution_count": 7,
   "metadata": {},
   "outputs": [
    {
     "name": "stdout",
     "output_type": "stream",
     "text": [
      "\n",
      "It  cg_it cost            misfit          reg             (g,dm)          ||g||L2        alpha          tolcg         \n",
      "  1   1    6.726159e+01    4.764706e+01    1.961452e+01   -1.396474e+03   2.090330e+03   1.000000e+00   5.000000e-01\n",
      "  2   1    4.123491e+01    6.308298e+00    3.492661e+01   -5.535262e+01   2.476264e+02   1.000000e+00   3.441843e-01\n",
      "  3   3    4.105982e+01    5.722487e+00    3.533733e+01   -4.058874e-01   7.075869e+00   1.000000e+00   5.818117e-02\n"
     ]
    }
   ],
   "source": [
    "optimization_settings = hlx_optimization.SolverSettings(\n",
    "    relative_tolerance=1e-3, absolute_tolerance=1e-3\n",
    ")\n",
    "initial_guess = spin_prior.mean_array\n",
    "newton_solver = hlx_optimization.NewtonCGSolver(optimization_settings, inference_model)\n",
    "map_estimate = newton_solver.solve(initial_guess)"
   ]
  }
 ],
 "metadata": {
  "kernelspec": {
   "display_name": "all",
   "language": "python",
   "name": "python3"
  },
  "language_info": {
   "codemirror_mode": {
    "name": "ipython",
    "version": 3
   },
   "file_extension": ".py",
   "mimetype": "text/x-python",
   "name": "python",
   "nbconvert_exporter": "python",
   "pygments_lexer": "ipython3",
   "version": "3.12.8"
  }
 },
 "nbformat": 4,
 "nbformat_minor": 2
}
