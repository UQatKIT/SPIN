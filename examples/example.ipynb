{
 "cells": [
  {
   "cell_type": "code",
   "execution_count": 1,
   "metadata": {},
   "outputs": [],
   "source": [
    "import dolfin as dl\n",
    "import hippylib as hl\n",
    "import matplotlib.pyplot as plt\n",
    "import numpy as np\n",
    "\n",
    "from spin.core import problem\n",
    "from spin.fenics import converter as fex_converter\n",
    "from spin.hippylib import misfit, prior"
   ]
  },
  {
   "cell_type": "code",
   "execution_count": 2,
   "metadata": {},
   "outputs": [],
   "source": [
    "mesh = dl.IntervalMesh(100, -1, 1)\n",
    "problem_settings = problem.SPINProblemSettings(\n",
    "    mesh=mesh,\n",
    "    pde_type=\"mean_exit_time\",\n",
    "    inference_type=\"drift_only\",\n",
    "    drift=((\"-x[0]\",)),\n",
    "    log_squared_diffusion=(\"std::log(1.0)\",),\n",
    ")"
   ]
  },
  {
   "cell_type": "code",
   "execution_count": 3,
   "metadata": {},
   "outputs": [],
   "source": [
    "problem_builder = problem.SPINProblemBuilder(problem_settings)\n",
    "spin_problem = problem_builder.build()"
   ]
  },
  {
   "cell_type": "code",
   "execution_count": 4,
   "metadata": {},
   "outputs": [],
   "source": [
    "forward_vector = spin_problem.hippylib_variational_problem.generate_state()\n",
    "adjoint_vector = spin_problem.hippylib_variational_problem.generate_state()\n",
    "parameter_vector = spin_problem.hippylib_variational_problem.generate_parameter()\n",
    "parameter_vector.set_local(-np.linspace(-1, 1, parameter_vector.size()))\n",
    "state_list = [forward_vector, parameter_vector, adjoint_vector]\n",
    "spin_problem.hippylib_variational_problem.solveFwd(forward_vector, state_list)\n",
    "forward_array = fex_converter.convert_to_numpy(\n",
    "    forward_vector, spin_problem.function_space_variables\n",
    ")"
   ]
  },
  {
   "cell_type": "code",
   "execution_count": 5,
   "metadata": {},
   "outputs": [],
   "source": [
    "prior_settings = prior.PriorSettings(\n",
    "    function_space=spin_problem.function_space_parameters,\n",
    "    mean=(\"-0.5*x[0]\",),\n",
    "    variance=(\"0.1\",),\n",
    "    correlation_length=(\"0.1\",),\n",
    ")\n",
    "prior_builder = prior.BilaplacianVectorPriorBuilder(prior_settings)\n",
    "spin_prior = prior_builder.build()"
   ]
  },
  {
   "cell_type": "code",
   "execution_count": 6,
   "metadata": {},
   "outputs": [],
   "source": [
    "misfit_settings = misfit.MisfitSettings(\n",
    "    function_space=spin_problem.function_space_variables,\n",
    "    observation_points=np.linspace(-0.9, 0.9, 10),\n",
    "    observation_values=forward_array + np.random.normal(0, 0.1, forward_array.shape),\n",
    "    noise_variance=0.1 * np.ones(forward_array.shape),\n",
    ")\n",
    "misfit_builder = misfit.MisfitBuilder(misfit_settings)\n",
    "spin_misfit = misfit_builder.build()"
   ]
  },
  {
   "cell_type": "code",
   "execution_count": 7,
   "metadata": {},
   "outputs": [],
   "source": [
    "inference_model = hl.Model(\n",
    "    spin_problem.hippylib_variational_problem, spin_prior.hippylib_prior, spin_misfit\n",
    ")"
   ]
  }
 ],
 "metadata": {
  "kernelspec": {
   "display_name": "all",
   "language": "python",
   "name": "python3"
  },
  "language_info": {
   "codemirror_mode": {
    "name": "ipython",
    "version": 3
   },
   "file_extension": ".py",
   "mimetype": "text/x-python",
   "name": "python",
   "nbconvert_exporter": "python",
   "pygments_lexer": "ipython3",
   "version": "3.12.8"
  }
 },
 "nbformat": 4,
 "nbformat_minor": 2
}
